{
 "cells": [
  {
   "cell_type": "code",
   "execution_count": 1,
   "metadata": {},
   "outputs": [],
   "source": [
    "import pandas as pd"
   ]
  },
  {
   "cell_type": "code",
   "execution_count": 4,
   "metadata": {},
   "outputs": [
    {
     "data": {
      "text/html": [
       "<div>\n",
       "<style scoped>\n",
       "    .dataframe tbody tr th:only-of-type {\n",
       "        vertical-align: middle;\n",
       "    }\n",
       "\n",
       "    .dataframe tbody tr th {\n",
       "        vertical-align: top;\n",
       "    }\n",
       "\n",
       "    .dataframe thead th {\n",
       "        text-align: right;\n",
       "    }\n",
       "</style>\n",
       "<table border=\"1\" class=\"dataframe\">\n",
       "  <thead>\n",
       "    <tr style=\"text-align: right;\">\n",
       "      <th></th>\n",
       "      <th>Open</th>\n",
       "      <th>High</th>\n",
       "      <th>Low</th>\n",
       "      <th>Close</th>\n",
       "      <th>Adj Close</th>\n",
       "      <th>Volume</th>\n",
       "    </tr>\n",
       "    <tr>\n",
       "      <th>Date</th>\n",
       "      <th></th>\n",
       "      <th></th>\n",
       "      <th></th>\n",
       "      <th></th>\n",
       "      <th></th>\n",
       "      <th></th>\n",
       "    </tr>\n",
       "  </thead>\n",
       "  <tbody>\n",
       "    <tr>\n",
       "      <th>2019-06-05</th>\n",
       "      <td>154.199997</td>\n",
       "      <td>154.199997</td>\n",
       "      <td>151.059998</td>\n",
       "      <td>152.500000</td>\n",
       "      <td>130.843079</td>\n",
       "      <td>67049984.0</td>\n",
       "    </tr>\n",
       "    <tr>\n",
       "      <th>2019-06-06</th>\n",
       "      <td>153.339996</td>\n",
       "      <td>153.520004</td>\n",
       "      <td>149.600006</td>\n",
       "      <td>151.240005</td>\n",
       "      <td>129.762009</td>\n",
       "      <td>31278842.0</td>\n",
       "    </tr>\n",
       "    <tr>\n",
       "      <th>2019-06-07</th>\n",
       "      <td>151.679993</td>\n",
       "      <td>152.559998</td>\n",
       "      <td>150.199997</td>\n",
       "      <td>151.059998</td>\n",
       "      <td>129.607559</td>\n",
       "      <td>21154119.0</td>\n",
       "    </tr>\n",
       "    <tr>\n",
       "      <th>2019-06-10</th>\n",
       "      <td>151.979996</td>\n",
       "      <td>153.740005</td>\n",
       "      <td>150.699997</td>\n",
       "      <td>153.080002</td>\n",
       "      <td>131.340698</td>\n",
       "      <td>21160315.0</td>\n",
       "    </tr>\n",
       "    <tr>\n",
       "      <th>2019-06-11</th>\n",
       "      <td>152.619995</td>\n",
       "      <td>154.059998</td>\n",
       "      <td>151.520004</td>\n",
       "      <td>152.220001</td>\n",
       "      <td>130.602844</td>\n",
       "      <td>22900404.0</td>\n",
       "    </tr>\n",
       "    <tr>\n",
       "      <th>...</th>\n",
       "      <td>...</td>\n",
       "      <td>...</td>\n",
       "      <td>...</td>\n",
       "      <td>...</td>\n",
       "      <td>...</td>\n",
       "      <td>...</td>\n",
       "    </tr>\n",
       "    <tr>\n",
       "      <th>2024-05-30</th>\n",
       "      <td>212.550003</td>\n",
       "      <td>219.850006</td>\n",
       "      <td>211.250000</td>\n",
       "      <td>218.550003</td>\n",
       "      <td>218.550003</td>\n",
       "      <td>47795152.0</td>\n",
       "    </tr>\n",
       "    <tr>\n",
       "      <th>2024-05-31</th>\n",
       "      <td>219.199997</td>\n",
       "      <td>221.100006</td>\n",
       "      <td>217.199997</td>\n",
       "      <td>220.000000</td>\n",
       "      <td>220.000000</td>\n",
       "      <td>82218581.0</td>\n",
       "    </tr>\n",
       "    <tr>\n",
       "      <th>2024-06-03</th>\n",
       "      <td>222.050003</td>\n",
       "      <td>224.300003</td>\n",
       "      <td>219.000000</td>\n",
       "      <td>219.199997</td>\n",
       "      <td>219.199997</td>\n",
       "      <td>47887792.0</td>\n",
       "    </tr>\n",
       "    <tr>\n",
       "      <th>2024-06-04</th>\n",
       "      <td>218.649994</td>\n",
       "      <td>219.350006</td>\n",
       "      <td>215.000000</td>\n",
       "      <td>215.000000</td>\n",
       "      <td>215.000000</td>\n",
       "      <td>96266689.0</td>\n",
       "    </tr>\n",
       "    <tr>\n",
       "      <th>2024-06-05</th>\n",
       "      <td>0.000000</td>\n",
       "      <td>0.000000</td>\n",
       "      <td>0.000000</td>\n",
       "      <td>212.649994</td>\n",
       "      <td>212.649994</td>\n",
       "      <td>18752096.0</td>\n",
       "    </tr>\n",
       "  </tbody>\n",
       "</table>\n",
       "<p>1263 rows × 6 columns</p>\n",
       "</div>"
      ],
      "text/plain": [
       "                  Open        High         Low       Close   Adj Close  \\\n",
       "Date                                                                     \n",
       "2019-06-05  154.199997  154.199997  151.059998  152.500000  130.843079   \n",
       "2019-06-06  153.339996  153.520004  149.600006  151.240005  129.762009   \n",
       "2019-06-07  151.679993  152.559998  150.199997  151.059998  129.607559   \n",
       "2019-06-10  151.979996  153.740005  150.699997  153.080002  131.340698   \n",
       "2019-06-11  152.619995  154.059998  151.520004  152.220001  130.602844   \n",
       "...                ...         ...         ...         ...         ...   \n",
       "2024-05-30  212.550003  219.850006  211.250000  218.550003  218.550003   \n",
       "2024-05-31  219.199997  221.100006  217.199997  220.000000  220.000000   \n",
       "2024-06-03  222.050003  224.300003  219.000000  219.199997  219.199997   \n",
       "2024-06-04  218.649994  219.350006  215.000000  215.000000  215.000000   \n",
       "2024-06-05    0.000000    0.000000    0.000000  212.649994  212.649994   \n",
       "\n",
       "                Volume  \n",
       "Date                    \n",
       "2019-06-05  67049984.0  \n",
       "2019-06-06  31278842.0  \n",
       "2019-06-07  21154119.0  \n",
       "2019-06-10  21160315.0  \n",
       "2019-06-11  22900404.0  \n",
       "...                ...  \n",
       "2024-05-30  47795152.0  \n",
       "2024-05-31  82218581.0  \n",
       "2024-06-03  47887792.0  \n",
       "2024-06-04  96266689.0  \n",
       "2024-06-05  18752096.0  \n",
       "\n",
       "[1263 rows x 6 columns]"
      ]
     },
     "execution_count": 4,
     "metadata": {},
     "output_type": "execute_result"
    }
   ],
   "source": [
    "df = pd.read_csv(\"data/BCS.csv\", index_col = 0)\n",
    "df"
   ]
  },
  {
   "cell_type": "code",
   "execution_count": 5,
   "metadata": {},
   "outputs": [
    {
     "name": "stderr",
     "output_type": "stream",
     "text": [
      "/var/folders/pf/r0cmnchs509dgvhzjm4qsn640000gn/T/ipykernel_33109/628832764.py:1: FutureWarning: The default fill_method='pad' in Series.pct_change is deprecated and will be removed in a future version. Either fill in any non-leading NA values prior to calling pct_change or specify 'fill_method=None' to not fill NA values.\n",
      "  1 - (df['Adj Close'].pct_change() + 1).cumprod().tail()[0]\n",
      "/var/folders/pf/r0cmnchs509dgvhzjm4qsn640000gn/T/ipykernel_33109/628832764.py:1: FutureWarning: Series.__getitem__ treating keys as positions is deprecated. In a future version, integer keys will always be treated as labels (consistent with DataFrame behavior). To access a value by position, use `ser.iloc[pos]`\n",
      "  1 - (df['Adj Close'].pct_change() + 1).cumprod().tail()[0]\n"
     ]
    },
    {
     "data": {
      "text/plain": [
       "-0.6703214619399178"
      ]
     },
     "execution_count": 5,
     "metadata": {},
     "output_type": "execute_result"
    }
   ],
   "source": [
    "\n",
    "1 - (df['Adj Close'].pct_change() + 1).cumprod().tail()[0]"
   ]
  },
  {
   "cell_type": "code",
   "execution_count": 6,
   "metadata": {},
   "outputs": [],
   "source": [
    "from typing import Type\n",
    "import boto3\n",
    "from langchain.tools import BaseTool\n",
    "from pydantic import BaseModel, Field\n",
    "import streamlit as st\n",
    "import pandas as pd\n",
    "\n",
    "## We will be suing Titan Embeddings Model To generate Embedding\n",
    "from langchain.embeddings.bedrock import BedrockEmbeddings\n",
    "from langchain.llms.bedrock import Bedrock\n",
    "from langchain.chat_models.bedrock import BedrockChat\n",
    "\n",
    "## Data Ingestion\n",
    "from langchain.document_loaders import PyPDFDirectoryLoader\n",
    "from langchain.text_splitter import RecursiveCharacterTextSplitter\n",
    "\n",
    "# Vector Embedding And Vector Store\n",
    "from langchain.vectorstores import FAISS\n",
    "\n",
    "## LLm Models\n",
    "from langchain.prompts import PromptTemplate\n",
    "from langchain.chains import RetrievalQA"
   ]
  },
  {
   "cell_type": "code",
   "execution_count": 7,
   "metadata": {},
   "outputs": [],
   "source": [
    "\n",
    "from langchain.agents import initialize_agent, Tool, AgentType\n",
    "from langchain.chains.conversation.memory import ConversationBufferMemory\n",
    "from langchain_community.callbacks.streamlit import (\n",
    "    StreamlitCallbackHandler,\n",
    ")\n",
    "from langchain_core.documents import Document"
   ]
  },
  {
   "cell_type": "code",
   "execution_count": 13,
   "metadata": {},
   "outputs": [],
   "source": [
    "bedrock = boto3.client(service_name=\"bedrock-runtime\")\n",
    "bedrock_embeddings = BedrockEmbeddings(\n",
    "    model_id=\"amazon.titan-embed-image-v1\", client=bedrock\n",
    ")"
   ]
  },
  {
   "cell_type": "code",
   "execution_count": 14,
   "metadata": {},
   "outputs": [],
   "source": [
    "def get_llama2_llm():\n",
    "    ##create the Llama Model\n",
    "    llm=Bedrock(model_id=\"meta.llama2-70b-chat-v1\",client=bedrock,\n",
    "                model_kwargs={'max_gen_len':200})\n",
    "    \n",
    "    return llm"
   ]
  },
  {
   "cell_type": "code",
   "execution_count": 15,
   "metadata": {},
   "outputs": [],
   "source": [
    "vectorstore = FAISS.load_local(\n",
    "        \"faiss_index_reports\", bedrock_embeddings, allow_dangerous_deserialization=True\n",
    "    )"
   ]
  },
  {
   "cell_type": "code",
   "execution_count": 47,
   "metadata": {},
   "outputs": [],
   "source": [
    "def search_docs(query):\n",
    "    print(query)\n",
    "    \"\"\"Searches the document store for relevant information.\"\"\"\n",
    "    vectorstore = configure_retriever()\n",
    "    # print(f\"query: {query}\")\n",
    "    # if query[\"value\"]:\n",
    "    #     results = vectorstore.similarity_search(query[\"value\"])\n",
    "    # else:\n",
    "    #     results = vectorstore.similarity_search(query[\"query\"])\n",
    "    results = vectorstore.similarity_search(query)\n",
    "    return {\"docs\": results}\n",
    "\n",
    "\n",
    "retriever_tool = Tool(\n",
    "    name=\"search_docs\",\n",
    "    func=search_docs,\n",
    "    description=\"Search the document store for relevant information.\",\n",
    ")"
   ]
  },
  {
   "cell_type": "code",
   "execution_count": 48,
   "metadata": {},
   "outputs": [],
   "source": [
    "tools = [retriever_tool]\n",
    "llm = get_llama2_llm()\n",
    "agent = initialize_agent(\n",
    "    tools,\n",
    "    llm,\n",
    "    agent=AgentType.STRUCTURED_CHAT_ZERO_SHOT_REACT_DESCRIPTION,\n",
    "    memory=ConversationBufferMemory(),\n",
    "    handle_parsing_error = True,\n",
    "    verbose=True,\n",
    ")"
   ]
  },
  {
   "cell_type": "code",
   "execution_count": 49,
   "metadata": {},
   "outputs": [],
   "source": [
    "st_callback = StreamlitCallbackHandler(st.container())"
   ]
  },
  {
   "cell_type": "code",
   "execution_count": 50,
   "metadata": {},
   "outputs": [],
   "source": [
    "def configure_retriever():\n",
    "    bedrock_embeddings = BedrockEmbeddings(\n",
    "        model_id=\"amazon.titan-embed-image-v1\", client=bedrock\n",
    "    )\n",
    "    vectorstore = FAISS.load_local(\n",
    "        \"faiss_index_pdfs\", bedrock_embeddings, allow_dangerous_deserialization=True\n",
    "    )\n",
    "    return vectorstore"
   ]
  },
  {
   "cell_type": "code",
   "execution_count": 51,
   "metadata": {},
   "outputs": [
    {
     "name": "stdout",
     "output_type": "stream",
     "text": [
      "\n",
      "\n",
      "\u001b[1m> Entering new AgentExecutor chain...\u001b[0m\n"
     ]
    },
    {
     "name": "stderr",
     "output_type": "stream",
     "text": [
      "Error in StreamlitCallbackHandler.on_llm_end callback: StreamlitAPIException()\n",
      "Error in StreamlitCallbackHandler.on_tool_start callback: StreamlitAPIException()\n"
     ]
    },
    {
     "name": "stdout",
     "output_type": "stream",
     "text": [
      "\u001b[32;1m\u001b[1;3mAction:\n",
      "```\n",
      "{\n",
      "  \"action\": \"search_docs\",\n",
      "  \"action_input\": \"human greetings\"\n",
      "}\n",
      "```\n",
      "\u001b[0mhuman greetings\n"
     ]
    },
    {
     "name": "stderr",
     "output_type": "stream",
     "text": [
      "Error in StreamlitCallbackHandler.on_tool_end callback: StreamlitAPIException()\n"
     ]
    },
    {
     "name": "stdout",
     "output_type": "stream",
     "text": [
      "\n",
      "Observation: \u001b[36;1m\u001b[1;3m{'docs': [Document(page_content='3  \\nExecutive Summary', metadata={'source': 'pdfs/The-CECL-Accounting-Standard-and-Financial-Institution-Regulatory-Capital-Study-9-15-20.pdf', 'page': 2}), Document(page_content='6  \\nI.  Background', metadata={'source': 'pdfs/The-CECL-Accounting-Standard-and-Financial-Institution-Regulatory-Capital-Study-9-15-20.pdf', 'page': 5}), Document(page_content='25  \\nIV.  Recommendations', metadata={'source': 'pdfs/The-CECL-Accounting-Standard-and-Financial-Institution-Regulatory-Capital-Study-9-15-20.pdf', 'page': 24}), Document(page_content='is otherwise not r estricted b y the ca pital rule’s automa tic distrib ution r estrictions , beginning\\non October 1, 2020, to\\n(i) ma ke capital distrib utions in e xcess of those specif ied in the ca pital plan in a gi ven\\nquarter and\\n(ii) execute distrib utions origina lly planned f or a la ter quarter in the planning horizon in an\\nearlier quarter , in either case up to the limit of the automa tic distrib ution r estriction.\\nA:Your understanding is accur ate. Until October 1, 2020, a f irm must notify the F ederal\\nReserv e within 15 da ys of making a ca pital distrib ution if the dollar amount of the ca pital\\ndistrib ution will e xceed the dollar amount of the f irm’s f inal planned ca pital distrib utions .\\n(FRB R esponse: Mar ch 17, 2020)\\nQ (GEN0213): On p . 2 of the CCAR 2020 Instructions , Table 1 indica tes tha t certain f irms\\nare not subject to the Qua litative Objection f or CCAR 2020. Ho wever, ther e are instances\\nwithin the instructions , which seem to impl y tha t the F ederal Reserv e could object to a f irm’s\\nsubmission. Please conf irm those f irms that remain subject to an objection to their Ca pital Plan.\\nA:The f ive firms tha t remain subject to an objection to their ca pital plan ar e listed in f ootnote\\n11 on pa ge 3 of the CCAR 2020 Instructions . (FRB R esponse: Mar ch 17, 2020)\\nQ (GEN0212): Regarding the adoption of the str ess ca pital buffer for CCAR 2020, w e note\\nthat page 33 of the F ederal Register notice sta tes, “The f inal rule will not be ef fective bef ore a\\nfirm is r equir ed to submit its ca pital plan and the r esults of its compan y-run str ess test, if\\napplica ble, for the 2020 str ess testing cy cle. The f inal rule will be ef fective prior to the Boar d\\nconducting the supervisory str ess test. Accor dingl y, the r esults of a compan y-run str ess test\\nwill r eflect dif ferent assumptions , particular ly regarding ca pital actions and ma teria l business\\nplan changes , than w ould be used as part of the supervisory str ess test.” In accor dance with\\nthat guidance , as w ell as interna l governance consider ations , for the CCAR 2020 submission,\\nthe f irm intends to adher e to esta blished ca pital goa ls and ca pital adequacy assessment\\nprocesses , as curr ently def ined in the f irm’s ca pital policy , which ha ve previousl y been\\nreviewed with the Boar d of Directors . The f irm’s ca libration of capital actions will be based\\non ana lysis conducted under this e xisting fr amework. As an incr ementa l ana lysis, when\\ncalibrating ca pital actions , the f irm intends to consider the estima ted impact of the Str ess\\nCapital Buf fer (SCB), based on the f irm’s o wn ana lysis of the Supervisory Se verely Ad verse\\nscenario , and e xplain tha t ana lysis to the f irm’s Boar d of Directors . This incr ementa l ana lysis\\nwill not be a f ormalized component of the Ca pital Policy , nor will this ana lysis impact the\\nCCAR Submission on A pril 6, 2020. Subsequent to the CCAR Submission, the f irm intends\\nto revise the Ca pital Adequacy Assessment F ramework, inclusi ve of capital goa ls, to r eflect\\nthe adoption of the SCB . Additiona lly, after the pub lication b y the F ederal Reserv e of the\\nSCB in J une 2020, the f irm will r eassess its Planned Ca pital Actions , and r ecalibrate if\\nnecessary . Please conf irm tha t this a pproach is accepta ble.\\nA:This a pproach is accepta ble. The Boar d’s rules r equir e a ca pital policy as part of a firm’s\\ncapital plan. As pr ovided in SR Letter 15-18, a f irm’s ca pital policy should be r evised as\\nnecessary to ad dress changes to a f irm’s post-str ess ca pital goa ls, real-time tar geted ca pital\\nlevels, regula tory en vironment, and other factors potentia lly affecting the f irm’s ca pital\\nadequacy . In doing so , a firm should be a ble to demonstr ate thr ough its o wn interna l ana lysis,\\nindependent of regula tory ca pital requir ements , the minim um le vel of post-str ess ca pital the\\nfirm has deemed necessary to r emain a going concern o ver the planning horizon.\\n(FRB R esponse: Mar ch 17, 2020)12 Compr ehensi ve Ca pital and Ana lysis R eview and Dod d-Frank Act Str ess T ests', metadata={'source': 'pdfs/CCAR-QAs.pdf', 'page': 11})]}\u001b[0m\n",
      "Thought:"
     ]
    },
    {
     "name": "stderr",
     "output_type": "stream",
     "text": [
      "Error in StreamlitCallbackHandler.on_llm_end callback: StreamlitAPIException()\n",
      "Error in StreamlitCallbackHandler.on_tool_start callback: StreamlitAPIException()\n"
     ]
    },
    {
     "name": "stdout",
     "output_type": "stream",
     "text": [
      "\u001b[32;1m\u001b[1;3m It seems like the human is asking about the CECL accounting standard and its impact on financial institutions. They also mention the Federal Reserve's instructions for the 2020 Comprehensive Capital Analysis and Review (CCAR) and the stress capital buffer.\n",
      "\n",
      "Action:\n",
      "```\n",
      "{\n",
      "  \"action\": \"search_docs\",\n",
      "  \"action_input\": \"CECL accounting standard, Federal Reserve instructions, CCAR 2020, stress capital buffer\"\n",
      "}\n",
      "```\n",
      "\n",
      "\u001b[0mCECL accounting standard, Federal Reserve instructions, CCAR 2020, stress capital buffer\n"
     ]
    },
    {
     "name": "stderr",
     "output_type": "stream",
     "text": [
      "Error in StreamlitCallbackHandler.on_tool_end callback: StreamlitAPIException()\n"
     ]
    },
    {
     "name": "stdout",
     "output_type": "stream",
     "text": [
      "\n",
      "Observation: \u001b[36;1m\u001b[1;3m{'docs': [Document(page_content='17 B. Key Regulatory Responses Related to Regulatory Capital  \\nThe prudential regulators have acknowledged many of the potential challenges and effects of \\nfinancial institutions’ implementation of CECL and have taken various actions in response , \\ndescribed below .  \\n1. 2018 Fed eral Reserve  Stress Test Statement  \\nOn December 21, 2018, the Federal Reserve announced that it planned to maintain the current \\nmodeling framework for loan allowances in its supervisory stress test process through 2021 to \\nprovide more time for it to analyze the potential impacts of CECL.49  The Federal Reserve chose \\nto maintain the current framework in supervisory stress tests in order to reduce uncertainty and \\nallow for better capital planning at affected banking organi zations, among other reasons.50  In \\naddition, as part of the Banking Regulators’ 2019 Regulatory Capital Rule, the Federal Reserve \\namended its stress testing rules to require a covered banking organization that has adopted CECL \\nto incorporate CECL in its co mpany -run stress testing methodologies, data, and disclosure \\nbeginning in the 2020 stress testing cycle.51  The Federal Reserve also announced on December \\n21, 2018 , that it would not issue supervisory findings on a firm’s stressed estimation of its \\nallowanc es under CECL any earlier than 2022.52   \\n2. 2019 Banking Regulators’ Transitions Final Rule  \\nOn February 14, 2019, the banking regulators published  revisions to their capital rules to clarify \\nexpectations for credit loss accounting under CECL.53  Among other things, the banking \\nregulators adopted revisions to their capital rules to identify which credit loss allowances under \\nCECL are eligible for inclusion in a banking organization’s regulatory capital.  For example, the \\nagencies added a new ly defined term “adjusted allowances for credit losses” (AACL)  to replace \\nALLL  and identify which credit loss allowances would have certain regulatory capital \\nimplications.54  AACL applies to a wider range of assets than ALLL.55  Additionally, in an effort \\nto hel p address  some of the potential challenges of managing the day-1 effects on a banking \\norganization’s regulatory capital ratios associated with CECL implementation, the banking \\nregulators provided banking organizations with the option to phase -in the day-1 effects of CECL \\n                                                 \\n49 See FEDERAL RESERVE , STATEMENT ON THE CURRENT EXPECTED CREDIT LOSS METHODOLOGY (CECL)  AND \\nSTRESS TESTING  (2018), https://www.federalreserve.gov/newsevents/pressreleases/files/bcreg20181221b1.pdf . \\n50 Id. \\n51 Id.  \\n52 Id. \\n53 Banking Regulators’ 2019 Regulatory Capital Rule, supra note 16.  \\n54 The banking regulators introduced AACL to identify which cr edit loss allowances have been charged against net \\nincome or retained earnings  and would therefore be eligible to be included in regulatory capital.  Like ALLL, the \\namount of AACL that may count as tier 2 capital  is limited to 1.25 percent of a banking org anization’s standardized \\ntotal risk -weighted assets (excluding its standardized market risk -weighted assets, if applicable).  See id . at 4224 -25. \\n55 See id. at 4225 -26.', metadata={'source': 'pdfs/The-CECL-Accounting-Standard-and-Financial-Institution-Regulatory-Capital-Study-9-15-20.pdf', 'page': 16}), Document(page_content='12 E.  Transition Relief  \\nAs described below in Part II, CECL implementation may be  operationally complex for financial \\ninstitutions and can have important implications for financial institutions’ regulatory capital and \\nlending activities.  Given these and other factors —including the onset of the COVID -19 global \\npandemic —FASB, Congress , and the prudent ial regulators have taken certain steps designed to \\nfacilitate the transition to CECL.   \\n1. February 2019 Relief for Banking Organizations  \\nOn February 14, 2019, the banki ng regulators  published a final regulatory capital rule (the \\n“Banking Regulators’ 2019 Re gulatory Capital Rule”) to provide a transition option that allows \\nbanking organizations to phase -in over a three -year period certain “ day-1” effects from the \\ntransition to CECL  on their regulatory capital ratios.27  The banking regulators intended for the \\ntransition option to address concerns that, despite adequate capital planning, unexpected \\neconomic conditions at the time of CECL adoption could result in higher -than-anticipated \\nincreases in day-1 allowances.  Part II below provides additional details on the day-1 effects of \\nCECL and related regulatory relief.   \\n2. October 2019 FASB CECL Implementation Delay for Smaller Institutions  \\nAs reflected by the current CECL implementation timeline above, several months after t he \\nprudential regulators issued the Banking Regulators’ 2019 Regulatory Capital Rule , FASB \\ndelayed the CECL implementation deadline to the first fiscal year beginning after December 15, \\n2022, including interim periods within that fiscal year,  for all PBEs  that met the Smaller \\nReporting Companies definition or entities that were not SEC filers .28  According to one FASB \\nofficial , this change resulted in the CECL implementation deadline being moved from January \\n2021 to January 2023 for over 90 percent of financ ial services companies.29 \\n3. CARES Act Relief  \\nOn March 27, 2020, President Donald J. Trump signed the Coronavirus Aid, Relief, and \\nEconomic Security Act (CARES Act) into law.30  Among other things, the CARES Act provides \\nbanking organizations optional temporary  relief from complying with CECL ending on the \\n                                                 \\n27 See Banking Regulators’ 2019 Regulatory Capital Rule , supra note 16. \\n28 See FASB  ACCOUNTING STANDARDS UPDATE NO. 2019 -10, supra  note 23.  \\n29 Schroeder Remarks, supra note 19.  \\n30 Coronavirus Aid, Relief, and Economic Security Act, Pub. L. No. 116 -136, 116th Cong. (2020), \\nhttps://www.congress.gov/bill/116th -congress/house -bill/748/text .', metadata={'source': 'pdfs/The-CECL-Accounting-Standard-and-Financial-Institution-Regulatory-Capital-Study-9-15-20.pdf', 'page': 11}), Document(page_content='5 concerns that have been raised regard ing CECL’s potential effects on and implications for \\nregulatory capital, lenders, borrowers, and the U.S. economy.   \\nA definitive assessment of the impact of CECL on regulatory capital is not currently feasible, in \\nlight of the state of CECL implemen tation across financial institutions  and current market \\ndynamics.  Drawing conclusions right now regarding CECL’s impact since its initial \\nimplementation in earl y 2020 is challenging because CECL has no t been fully implemented  by \\nall entities , and numerous  market factors relating to the COVID -19 global pandemic (including \\ngovernment responses) have affected the economy, financial institutions, and borrowing  and \\nlending dynamics.  While some information has emerged indicating that credit availability \\ndecline d and lending standards tightened in some financial product categories in early 2020, \\nidentifying a definitive linkage between any such trends and the introduction of CECL is difficult  \\ndue to various factors related to the COVID -19 global pandemic.   \\nTreas ury will continue to actively monitor CECL implementation and consult with relevant \\nstakeholders, including the prudential regulators, FASB , and the SEC.  As described in more \\ndetail below, Treasury makes the following recommendations  at this time :  \\n1. The prudential regulators should continue to monitor the effects of CECL on regulatory \\ncapital and financial institution lending practices , and calibrate capital requirements, as \\nnecessary.  \\n \\n2. The prudential regulators should monitor the use and impact of  trans itional relief  granted , \\nand extend or amend the relief, as necessary.   \\n \\n3. FASB should further study CECL’s anticipated benefits.   \\n \\n4. FASB should expand its efforts to consult and coordinate with the prudential regulators \\nto understand —and take into account when considering any potential amendments to \\nCECL —the regulatory effects of CECL on financial institutions.   \\n \\n5. FASB should, in consu ltation with relevant stakeholders, explore the costs and benefits of \\nfurther aligning the timing of the accounting recognition of fee  revenue s associated with \\nfinancial assets under GAAP with the earlier accounting recognition of potential credit \\nlosses u nder CECL .   \\n \\n6. FASB, together with the prudential regulators, should examine the application of CECL \\nto smaller lenders.', metadata={'source': 'pdfs/The-CECL-Accounting-Standard-and-Financial-Institution-Regulatory-Capital-Study-9-15-20.pdf', 'page': 4}), Document(page_content='U.S.  DEPARTMENT OF THE TREASURY  \\n \\n \\n \\n \\n  \\n \\n \\n \\n \\nThe C urrent Expected Credit Loss  \\nAccounting Standard and  \\nFinancial Institution Regulatory Capital  \\n \\n \\n  \\nSeptember 15, 2020', metadata={'source': 'pdfs/The-CECL-Accounting-Standard-and-Financial-Institution-Regulatory-Capital-Study-9-15-20.pdf', 'page': 0})]}\u001b[0m\n",
      "Thought:"
     ]
    },
    {
     "name": "stderr",
     "output_type": "stream",
     "text": [
      "Error in StreamlitCallbackHandler.on_llm_error callback: StreamlitAPIException()\n"
     ]
    },
    {
     "ename": "ValueError",
     "evalue": "Error raised by bedrock service: An error occurred (ValidationException) when calling the InvokeModel operation: This model's maximum context length is 4096 tokens. Please reduce the length of the prompt",
     "output_type": "error",
     "traceback": [
      "\u001b[0;31m---------------------------------------------------------------------------\u001b[0m",
      "\u001b[0;31mValidationException\u001b[0m                       Traceback (most recent call last)",
      "File \u001b[0;32m~/Desktop/aws bedrock/venv/lib/python3.10/site-packages/langchain_community/llms/bedrock.py:545\u001b[0m, in \u001b[0;36mBedrockBase._prepare_input_and_invoke\u001b[0;34m(self, prompt, system, messages, stop, run_manager, **kwargs)\u001b[0m\n\u001b[1;32m    544\u001b[0m \u001b[38;5;28;01mtry\u001b[39;00m:\n\u001b[0;32m--> 545\u001b[0m     response \u001b[38;5;241m=\u001b[39m \u001b[38;5;28;43mself\u001b[39;49m\u001b[38;5;241;43m.\u001b[39;49m\u001b[43mclient\u001b[49m\u001b[38;5;241;43m.\u001b[39;49m\u001b[43minvoke_model\u001b[49m\u001b[43m(\u001b[49m\u001b[38;5;241;43m*\u001b[39;49m\u001b[38;5;241;43m*\u001b[39;49m\u001b[43mrequest_options\u001b[49m\u001b[43m)\u001b[49m\n\u001b[1;32m    547\u001b[0m     text, body, usage_info \u001b[38;5;241m=\u001b[39m LLMInputOutputAdapter\u001b[38;5;241m.\u001b[39mprepare_output(\n\u001b[1;32m    548\u001b[0m         provider, response\n\u001b[1;32m    549\u001b[0m     )\u001b[38;5;241m.\u001b[39mvalues()\n",
      "File \u001b[0;32m~/Desktop/aws bedrock/venv/lib/python3.10/site-packages/botocore/client.py:565\u001b[0m, in \u001b[0;36mClientCreator._create_api_method.<locals>._api_call\u001b[0;34m(self, *args, **kwargs)\u001b[0m\n\u001b[1;32m    564\u001b[0m \u001b[38;5;66;03m# The \"self\" in this scope is referring to the BaseClient.\u001b[39;00m\n\u001b[0;32m--> 565\u001b[0m \u001b[38;5;28;01mreturn\u001b[39;00m \u001b[38;5;28;43mself\u001b[39;49m\u001b[38;5;241;43m.\u001b[39;49m\u001b[43m_make_api_call\u001b[49m\u001b[43m(\u001b[49m\u001b[43moperation_name\u001b[49m\u001b[43m,\u001b[49m\u001b[43m \u001b[49m\u001b[43mkwargs\u001b[49m\u001b[43m)\u001b[49m\n",
      "File \u001b[0;32m~/Desktop/aws bedrock/venv/lib/python3.10/site-packages/botocore/client.py:1021\u001b[0m, in \u001b[0;36mBaseClient._make_api_call\u001b[0;34m(self, operation_name, api_params)\u001b[0m\n\u001b[1;32m   1020\u001b[0m     error_class \u001b[38;5;241m=\u001b[39m \u001b[38;5;28mself\u001b[39m\u001b[38;5;241m.\u001b[39mexceptions\u001b[38;5;241m.\u001b[39mfrom_code(error_code)\n\u001b[0;32m-> 1021\u001b[0m     \u001b[38;5;28;01mraise\u001b[39;00m error_class(parsed_response, operation_name)\n\u001b[1;32m   1022\u001b[0m \u001b[38;5;28;01melse\u001b[39;00m:\n",
      "\u001b[0;31mValidationException\u001b[0m: An error occurred (ValidationException) when calling the InvokeModel operation: This model's maximum context length is 4096 tokens. Please reduce the length of the prompt",
      "\nDuring handling of the above exception, another exception occurred:\n",
      "\u001b[0;31mValueError\u001b[0m                                Traceback (most recent call last)",
      "Cell \u001b[0;32mIn[51], line 1\u001b[0m\n\u001b[0;32m----> 1\u001b[0m response \u001b[38;5;241m=\u001b[39m \u001b[43magent\u001b[49m\u001b[38;5;241;43m.\u001b[39;49m\u001b[43minvoke\u001b[49m\u001b[43m(\u001b[49m\n\u001b[1;32m      2\u001b[0m \u001b[43m                \u001b[49m\u001b[43m{\u001b[49m\u001b[38;5;124;43m\"\u001b[39;49m\u001b[38;5;124;43minput\u001b[39;49m\u001b[38;5;124;43m\"\u001b[39;49m\u001b[43m:\u001b[49m\u001b[43m \u001b[49m\u001b[38;5;124;43m\"\u001b[39;49m\u001b[38;5;124;43mHello\u001b[39;49m\u001b[38;5;124;43m\"\u001b[39;49m\u001b[43m}\u001b[49m\u001b[43m,\u001b[49m\u001b[43m \u001b[49m\u001b[43m{\u001b[49m\u001b[38;5;124;43m\"\u001b[39;49m\u001b[38;5;124;43mcallbacks\u001b[39;49m\u001b[38;5;124;43m\"\u001b[39;49m\u001b[43m:\u001b[49m\u001b[43m \u001b[49m\u001b[43m[\u001b[49m\u001b[43mst_callback\u001b[49m\u001b[43m]\u001b[49m\u001b[43m}\u001b[49m\n\u001b[1;32m      3\u001b[0m \u001b[43m            \u001b[49m\u001b[43m)\u001b[49m\n",
      "File \u001b[0;32m~/Desktop/aws bedrock/venv/lib/python3.10/site-packages/langchain/chains/base.py:166\u001b[0m, in \u001b[0;36mChain.invoke\u001b[0;34m(self, input, config, **kwargs)\u001b[0m\n\u001b[1;32m    164\u001b[0m \u001b[38;5;28;01mexcept\u001b[39;00m \u001b[38;5;167;01mBaseException\u001b[39;00m \u001b[38;5;28;01mas\u001b[39;00m e:\n\u001b[1;32m    165\u001b[0m     run_manager\u001b[38;5;241m.\u001b[39mon_chain_error(e)\n\u001b[0;32m--> 166\u001b[0m     \u001b[38;5;28;01mraise\u001b[39;00m e\n\u001b[1;32m    167\u001b[0m run_manager\u001b[38;5;241m.\u001b[39mon_chain_end(outputs)\n\u001b[1;32m    169\u001b[0m \u001b[38;5;28;01mif\u001b[39;00m include_run_info:\n",
      "File \u001b[0;32m~/Desktop/aws bedrock/venv/lib/python3.10/site-packages/langchain/chains/base.py:156\u001b[0m, in \u001b[0;36mChain.invoke\u001b[0;34m(self, input, config, **kwargs)\u001b[0m\n\u001b[1;32m    153\u001b[0m \u001b[38;5;28;01mtry\u001b[39;00m:\n\u001b[1;32m    154\u001b[0m     \u001b[38;5;28mself\u001b[39m\u001b[38;5;241m.\u001b[39m_validate_inputs(inputs)\n\u001b[1;32m    155\u001b[0m     outputs \u001b[38;5;241m=\u001b[39m (\n\u001b[0;32m--> 156\u001b[0m         \u001b[38;5;28;43mself\u001b[39;49m\u001b[38;5;241;43m.\u001b[39;49m\u001b[43m_call\u001b[49m\u001b[43m(\u001b[49m\u001b[43minputs\u001b[49m\u001b[43m,\u001b[49m\u001b[43m \u001b[49m\u001b[43mrun_manager\u001b[49m\u001b[38;5;241;43m=\u001b[39;49m\u001b[43mrun_manager\u001b[49m\u001b[43m)\u001b[49m\n\u001b[1;32m    157\u001b[0m         \u001b[38;5;28;01mif\u001b[39;00m new_arg_supported\n\u001b[1;32m    158\u001b[0m         \u001b[38;5;28;01melse\u001b[39;00m \u001b[38;5;28mself\u001b[39m\u001b[38;5;241m.\u001b[39m_call(inputs)\n\u001b[1;32m    159\u001b[0m     )\n\u001b[1;32m    161\u001b[0m     final_outputs: Dict[\u001b[38;5;28mstr\u001b[39m, Any] \u001b[38;5;241m=\u001b[39m \u001b[38;5;28mself\u001b[39m\u001b[38;5;241m.\u001b[39mprep_outputs(\n\u001b[1;32m    162\u001b[0m         inputs, outputs, return_only_outputs\n\u001b[1;32m    163\u001b[0m     )\n\u001b[1;32m    164\u001b[0m \u001b[38;5;28;01mexcept\u001b[39;00m \u001b[38;5;167;01mBaseException\u001b[39;00m \u001b[38;5;28;01mas\u001b[39;00m e:\n",
      "File \u001b[0;32m~/Desktop/aws bedrock/venv/lib/python3.10/site-packages/langchain/agents/agent.py:1433\u001b[0m, in \u001b[0;36mAgentExecutor._call\u001b[0;34m(self, inputs, run_manager)\u001b[0m\n\u001b[1;32m   1431\u001b[0m \u001b[38;5;66;03m# We now enter the agent loop (until it returns something).\u001b[39;00m\n\u001b[1;32m   1432\u001b[0m \u001b[38;5;28;01mwhile\u001b[39;00m \u001b[38;5;28mself\u001b[39m\u001b[38;5;241m.\u001b[39m_should_continue(iterations, time_elapsed):\n\u001b[0;32m-> 1433\u001b[0m     next_step_output \u001b[38;5;241m=\u001b[39m \u001b[38;5;28;43mself\u001b[39;49m\u001b[38;5;241;43m.\u001b[39;49m\u001b[43m_take_next_step\u001b[49m\u001b[43m(\u001b[49m\n\u001b[1;32m   1434\u001b[0m \u001b[43m        \u001b[49m\u001b[43mname_to_tool_map\u001b[49m\u001b[43m,\u001b[49m\n\u001b[1;32m   1435\u001b[0m \u001b[43m        \u001b[49m\u001b[43mcolor_mapping\u001b[49m\u001b[43m,\u001b[49m\n\u001b[1;32m   1436\u001b[0m \u001b[43m        \u001b[49m\u001b[43minputs\u001b[49m\u001b[43m,\u001b[49m\n\u001b[1;32m   1437\u001b[0m \u001b[43m        \u001b[49m\u001b[43mintermediate_steps\u001b[49m\u001b[43m,\u001b[49m\n\u001b[1;32m   1438\u001b[0m \u001b[43m        \u001b[49m\u001b[43mrun_manager\u001b[49m\u001b[38;5;241;43m=\u001b[39;49m\u001b[43mrun_manager\u001b[49m\u001b[43m,\u001b[49m\n\u001b[1;32m   1439\u001b[0m \u001b[43m    \u001b[49m\u001b[43m)\u001b[49m\n\u001b[1;32m   1440\u001b[0m     \u001b[38;5;28;01mif\u001b[39;00m \u001b[38;5;28misinstance\u001b[39m(next_step_output, AgentFinish):\n\u001b[1;32m   1441\u001b[0m         \u001b[38;5;28;01mreturn\u001b[39;00m \u001b[38;5;28mself\u001b[39m\u001b[38;5;241m.\u001b[39m_return(\n\u001b[1;32m   1442\u001b[0m             next_step_output, intermediate_steps, run_manager\u001b[38;5;241m=\u001b[39mrun_manager\n\u001b[1;32m   1443\u001b[0m         )\n",
      "File \u001b[0;32m~/Desktop/aws bedrock/venv/lib/python3.10/site-packages/langchain/agents/agent.py:1139\u001b[0m, in \u001b[0;36mAgentExecutor._take_next_step\u001b[0;34m(self, name_to_tool_map, color_mapping, inputs, intermediate_steps, run_manager)\u001b[0m\n\u001b[1;32m   1130\u001b[0m \u001b[38;5;28;01mdef\u001b[39;00m \u001b[38;5;21m_take_next_step\u001b[39m(\n\u001b[1;32m   1131\u001b[0m     \u001b[38;5;28mself\u001b[39m,\n\u001b[1;32m   1132\u001b[0m     name_to_tool_map: Dict[\u001b[38;5;28mstr\u001b[39m, BaseTool],\n\u001b[0;32m   (...)\u001b[0m\n\u001b[1;32m   1136\u001b[0m     run_manager: Optional[CallbackManagerForChainRun] \u001b[38;5;241m=\u001b[39m \u001b[38;5;28;01mNone\u001b[39;00m,\n\u001b[1;32m   1137\u001b[0m ) \u001b[38;5;241m-\u001b[39m\u001b[38;5;241m>\u001b[39m Union[AgentFinish, List[Tuple[AgentAction, \u001b[38;5;28mstr\u001b[39m]]]:\n\u001b[1;32m   1138\u001b[0m     \u001b[38;5;28;01mreturn\u001b[39;00m \u001b[38;5;28mself\u001b[39m\u001b[38;5;241m.\u001b[39m_consume_next_step(\n\u001b[0;32m-> 1139\u001b[0m         [\n\u001b[1;32m   1140\u001b[0m             a\n\u001b[1;32m   1141\u001b[0m             \u001b[38;5;28;01mfor\u001b[39;00m a \u001b[38;5;129;01min\u001b[39;00m \u001b[38;5;28mself\u001b[39m\u001b[38;5;241m.\u001b[39m_iter_next_step(\n\u001b[1;32m   1142\u001b[0m                 name_to_tool_map,\n\u001b[1;32m   1143\u001b[0m                 color_mapping,\n\u001b[1;32m   1144\u001b[0m                 inputs,\n\u001b[1;32m   1145\u001b[0m                 intermediate_steps,\n\u001b[1;32m   1146\u001b[0m                 run_manager,\n\u001b[1;32m   1147\u001b[0m             )\n\u001b[1;32m   1148\u001b[0m         ]\n\u001b[1;32m   1149\u001b[0m     )\n",
      "File \u001b[0;32m~/Desktop/aws bedrock/venv/lib/python3.10/site-packages/langchain/agents/agent.py:1139\u001b[0m, in \u001b[0;36m<listcomp>\u001b[0;34m(.0)\u001b[0m\n\u001b[1;32m   1130\u001b[0m \u001b[38;5;28;01mdef\u001b[39;00m \u001b[38;5;21m_take_next_step\u001b[39m(\n\u001b[1;32m   1131\u001b[0m     \u001b[38;5;28mself\u001b[39m,\n\u001b[1;32m   1132\u001b[0m     name_to_tool_map: Dict[\u001b[38;5;28mstr\u001b[39m, BaseTool],\n\u001b[0;32m   (...)\u001b[0m\n\u001b[1;32m   1136\u001b[0m     run_manager: Optional[CallbackManagerForChainRun] \u001b[38;5;241m=\u001b[39m \u001b[38;5;28;01mNone\u001b[39;00m,\n\u001b[1;32m   1137\u001b[0m ) \u001b[38;5;241m-\u001b[39m\u001b[38;5;241m>\u001b[39m Union[AgentFinish, List[Tuple[AgentAction, \u001b[38;5;28mstr\u001b[39m]]]:\n\u001b[1;32m   1138\u001b[0m     \u001b[38;5;28;01mreturn\u001b[39;00m \u001b[38;5;28mself\u001b[39m\u001b[38;5;241m.\u001b[39m_consume_next_step(\n\u001b[0;32m-> 1139\u001b[0m         [\n\u001b[1;32m   1140\u001b[0m             a\n\u001b[1;32m   1141\u001b[0m             \u001b[38;5;28;01mfor\u001b[39;00m a \u001b[38;5;129;01min\u001b[39;00m \u001b[38;5;28mself\u001b[39m\u001b[38;5;241m.\u001b[39m_iter_next_step(\n\u001b[1;32m   1142\u001b[0m                 name_to_tool_map,\n\u001b[1;32m   1143\u001b[0m                 color_mapping,\n\u001b[1;32m   1144\u001b[0m                 inputs,\n\u001b[1;32m   1145\u001b[0m                 intermediate_steps,\n\u001b[1;32m   1146\u001b[0m                 run_manager,\n\u001b[1;32m   1147\u001b[0m             )\n\u001b[1;32m   1148\u001b[0m         ]\n\u001b[1;32m   1149\u001b[0m     )\n",
      "File \u001b[0;32m~/Desktop/aws bedrock/venv/lib/python3.10/site-packages/langchain/agents/agent.py:1167\u001b[0m, in \u001b[0;36mAgentExecutor._iter_next_step\u001b[0;34m(self, name_to_tool_map, color_mapping, inputs, intermediate_steps, run_manager)\u001b[0m\n\u001b[1;32m   1164\u001b[0m     intermediate_steps \u001b[38;5;241m=\u001b[39m \u001b[38;5;28mself\u001b[39m\u001b[38;5;241m.\u001b[39m_prepare_intermediate_steps(intermediate_steps)\n\u001b[1;32m   1166\u001b[0m     \u001b[38;5;66;03m# Call the LLM to see what to do.\u001b[39;00m\n\u001b[0;32m-> 1167\u001b[0m     output \u001b[38;5;241m=\u001b[39m \u001b[38;5;28;43mself\u001b[39;49m\u001b[38;5;241;43m.\u001b[39;49m\u001b[43magent\u001b[49m\u001b[38;5;241;43m.\u001b[39;49m\u001b[43mplan\u001b[49m\u001b[43m(\u001b[49m\n\u001b[1;32m   1168\u001b[0m \u001b[43m        \u001b[49m\u001b[43mintermediate_steps\u001b[49m\u001b[43m,\u001b[49m\n\u001b[1;32m   1169\u001b[0m \u001b[43m        \u001b[49m\u001b[43mcallbacks\u001b[49m\u001b[38;5;241;43m=\u001b[39;49m\u001b[43mrun_manager\u001b[49m\u001b[38;5;241;43m.\u001b[39;49m\u001b[43mget_child\u001b[49m\u001b[43m(\u001b[49m\u001b[43m)\u001b[49m\u001b[43m \u001b[49m\u001b[38;5;28;43;01mif\u001b[39;49;00m\u001b[43m \u001b[49m\u001b[43mrun_manager\u001b[49m\u001b[43m \u001b[49m\u001b[38;5;28;43;01melse\u001b[39;49;00m\u001b[43m \u001b[49m\u001b[38;5;28;43;01mNone\u001b[39;49;00m\u001b[43m,\u001b[49m\n\u001b[1;32m   1170\u001b[0m \u001b[43m        \u001b[49m\u001b[38;5;241;43m*\u001b[39;49m\u001b[38;5;241;43m*\u001b[39;49m\u001b[43minputs\u001b[49m\u001b[43m,\u001b[49m\n\u001b[1;32m   1171\u001b[0m \u001b[43m    \u001b[49m\u001b[43m)\u001b[49m\n\u001b[1;32m   1172\u001b[0m \u001b[38;5;28;01mexcept\u001b[39;00m OutputParserException \u001b[38;5;28;01mas\u001b[39;00m e:\n\u001b[1;32m   1173\u001b[0m     \u001b[38;5;28;01mif\u001b[39;00m \u001b[38;5;28misinstance\u001b[39m(\u001b[38;5;28mself\u001b[39m\u001b[38;5;241m.\u001b[39mhandle_parsing_errors, \u001b[38;5;28mbool\u001b[39m):\n",
      "File \u001b[0;32m~/Desktop/aws bedrock/venv/lib/python3.10/site-packages/langchain/agents/agent.py:731\u001b[0m, in \u001b[0;36mAgent.plan\u001b[0;34m(self, intermediate_steps, callbacks, **kwargs)\u001b[0m\n\u001b[1;32m    719\u001b[0m \u001b[38;5;250m\u001b[39m\u001b[38;5;124;03m\"\"\"Given input, decided what to do.\u001b[39;00m\n\u001b[1;32m    720\u001b[0m \n\u001b[1;32m    721\u001b[0m \u001b[38;5;124;03mArgs:\u001b[39;00m\n\u001b[0;32m   (...)\u001b[0m\n\u001b[1;32m    728\u001b[0m \u001b[38;5;124;03m    Action specifying what tool to use.\u001b[39;00m\n\u001b[1;32m    729\u001b[0m \u001b[38;5;124;03m\"\"\"\u001b[39;00m\n\u001b[1;32m    730\u001b[0m full_inputs \u001b[38;5;241m=\u001b[39m \u001b[38;5;28mself\u001b[39m\u001b[38;5;241m.\u001b[39mget_full_inputs(intermediate_steps, \u001b[38;5;241m*\u001b[39m\u001b[38;5;241m*\u001b[39mkwargs)\n\u001b[0;32m--> 731\u001b[0m full_output \u001b[38;5;241m=\u001b[39m \u001b[38;5;28;43mself\u001b[39;49m\u001b[38;5;241;43m.\u001b[39;49m\u001b[43mllm_chain\u001b[49m\u001b[38;5;241;43m.\u001b[39;49m\u001b[43mpredict\u001b[49m\u001b[43m(\u001b[49m\u001b[43mcallbacks\u001b[49m\u001b[38;5;241;43m=\u001b[39;49m\u001b[43mcallbacks\u001b[49m\u001b[43m,\u001b[49m\u001b[43m \u001b[49m\u001b[38;5;241;43m*\u001b[39;49m\u001b[38;5;241;43m*\u001b[39;49m\u001b[43mfull_inputs\u001b[49m\u001b[43m)\u001b[49m\n\u001b[1;32m    732\u001b[0m \u001b[38;5;28;01mreturn\u001b[39;00m \u001b[38;5;28mself\u001b[39m\u001b[38;5;241m.\u001b[39moutput_parser\u001b[38;5;241m.\u001b[39mparse(full_output)\n",
      "File \u001b[0;32m~/Desktop/aws bedrock/venv/lib/python3.10/site-packages/langchain/chains/llm.py:316\u001b[0m, in \u001b[0;36mLLMChain.predict\u001b[0;34m(self, callbacks, **kwargs)\u001b[0m\n\u001b[1;32m    301\u001b[0m \u001b[38;5;28;01mdef\u001b[39;00m \u001b[38;5;21mpredict\u001b[39m(\u001b[38;5;28mself\u001b[39m, callbacks: Callbacks \u001b[38;5;241m=\u001b[39m \u001b[38;5;28;01mNone\u001b[39;00m, \u001b[38;5;241m*\u001b[39m\u001b[38;5;241m*\u001b[39mkwargs: Any) \u001b[38;5;241m-\u001b[39m\u001b[38;5;241m>\u001b[39m \u001b[38;5;28mstr\u001b[39m:\n\u001b[1;32m    302\u001b[0m \u001b[38;5;250m    \u001b[39m\u001b[38;5;124;03m\"\"\"Format prompt with kwargs and pass to LLM.\u001b[39;00m\n\u001b[1;32m    303\u001b[0m \n\u001b[1;32m    304\u001b[0m \u001b[38;5;124;03m    Args:\u001b[39;00m\n\u001b[0;32m   (...)\u001b[0m\n\u001b[1;32m    314\u001b[0m \u001b[38;5;124;03m            completion = llm.predict(adjective=\"funny\")\u001b[39;00m\n\u001b[1;32m    315\u001b[0m \u001b[38;5;124;03m    \"\"\"\u001b[39;00m\n\u001b[0;32m--> 316\u001b[0m     \u001b[38;5;28;01mreturn\u001b[39;00m \u001b[38;5;28;43mself\u001b[39;49m\u001b[43m(\u001b[49m\u001b[43mkwargs\u001b[49m\u001b[43m,\u001b[49m\u001b[43m \u001b[49m\u001b[43mcallbacks\u001b[49m\u001b[38;5;241;43m=\u001b[39;49m\u001b[43mcallbacks\u001b[49m\u001b[43m)\u001b[49m[\u001b[38;5;28mself\u001b[39m\u001b[38;5;241m.\u001b[39moutput_key]\n",
      "File \u001b[0;32m~/Desktop/aws bedrock/venv/lib/python3.10/site-packages/langchain_core/_api/deprecation.py:148\u001b[0m, in \u001b[0;36mdeprecated.<locals>.deprecate.<locals>.warning_emitting_wrapper\u001b[0;34m(*args, **kwargs)\u001b[0m\n\u001b[1;32m    146\u001b[0m     warned \u001b[38;5;241m=\u001b[39m \u001b[38;5;28;01mTrue\u001b[39;00m\n\u001b[1;32m    147\u001b[0m     emit_warning()\n\u001b[0;32m--> 148\u001b[0m \u001b[38;5;28;01mreturn\u001b[39;00m \u001b[43mwrapped\u001b[49m\u001b[43m(\u001b[49m\u001b[38;5;241;43m*\u001b[39;49m\u001b[43margs\u001b[49m\u001b[43m,\u001b[49m\u001b[43m \u001b[49m\u001b[38;5;241;43m*\u001b[39;49m\u001b[38;5;241;43m*\u001b[39;49m\u001b[43mkwargs\u001b[49m\u001b[43m)\u001b[49m\n",
      "File \u001b[0;32m~/Desktop/aws bedrock/venv/lib/python3.10/site-packages/langchain/chains/base.py:383\u001b[0m, in \u001b[0;36mChain.__call__\u001b[0;34m(self, inputs, return_only_outputs, callbacks, tags, metadata, run_name, include_run_info)\u001b[0m\n\u001b[1;32m    351\u001b[0m \u001b[38;5;250m\u001b[39m\u001b[38;5;124;03m\"\"\"Execute the chain.\u001b[39;00m\n\u001b[1;32m    352\u001b[0m \n\u001b[1;32m    353\u001b[0m \u001b[38;5;124;03mArgs:\u001b[39;00m\n\u001b[0;32m   (...)\u001b[0m\n\u001b[1;32m    374\u001b[0m \u001b[38;5;124;03m        `Chain.output_keys`.\u001b[39;00m\n\u001b[1;32m    375\u001b[0m \u001b[38;5;124;03m\"\"\"\u001b[39;00m\n\u001b[1;32m    376\u001b[0m config \u001b[38;5;241m=\u001b[39m {\n\u001b[1;32m    377\u001b[0m     \u001b[38;5;124m\"\u001b[39m\u001b[38;5;124mcallbacks\u001b[39m\u001b[38;5;124m\"\u001b[39m: callbacks,\n\u001b[1;32m    378\u001b[0m     \u001b[38;5;124m\"\u001b[39m\u001b[38;5;124mtags\u001b[39m\u001b[38;5;124m\"\u001b[39m: tags,\n\u001b[1;32m    379\u001b[0m     \u001b[38;5;124m\"\u001b[39m\u001b[38;5;124mmetadata\u001b[39m\u001b[38;5;124m\"\u001b[39m: metadata,\n\u001b[1;32m    380\u001b[0m     \u001b[38;5;124m\"\u001b[39m\u001b[38;5;124mrun_name\u001b[39m\u001b[38;5;124m\"\u001b[39m: run_name,\n\u001b[1;32m    381\u001b[0m }\n\u001b[0;32m--> 383\u001b[0m \u001b[38;5;28;01mreturn\u001b[39;00m \u001b[38;5;28;43mself\u001b[39;49m\u001b[38;5;241;43m.\u001b[39;49m\u001b[43minvoke\u001b[49m\u001b[43m(\u001b[49m\n\u001b[1;32m    384\u001b[0m \u001b[43m    \u001b[49m\u001b[43minputs\u001b[49m\u001b[43m,\u001b[49m\n\u001b[1;32m    385\u001b[0m \u001b[43m    \u001b[49m\u001b[43mcast\u001b[49m\u001b[43m(\u001b[49m\u001b[43mRunnableConfig\u001b[49m\u001b[43m,\u001b[49m\u001b[43m \u001b[49m\u001b[43m{\u001b[49m\u001b[43mk\u001b[49m\u001b[43m:\u001b[49m\u001b[43m \u001b[49m\u001b[43mv\u001b[49m\u001b[43m \u001b[49m\u001b[38;5;28;43;01mfor\u001b[39;49;00m\u001b[43m \u001b[49m\u001b[43mk\u001b[49m\u001b[43m,\u001b[49m\u001b[43m \u001b[49m\u001b[43mv\u001b[49m\u001b[43m \u001b[49m\u001b[38;5;129;43;01min\u001b[39;49;00m\u001b[43m \u001b[49m\u001b[43mconfig\u001b[49m\u001b[38;5;241;43m.\u001b[39;49m\u001b[43mitems\u001b[49m\u001b[43m(\u001b[49m\u001b[43m)\u001b[49m\u001b[43m \u001b[49m\u001b[38;5;28;43;01mif\u001b[39;49;00m\u001b[43m \u001b[49m\u001b[43mv\u001b[49m\u001b[43m \u001b[49m\u001b[38;5;129;43;01mis\u001b[39;49;00m\u001b[43m \u001b[49m\u001b[38;5;129;43;01mnot\u001b[39;49;00m\u001b[43m \u001b[49m\u001b[38;5;28;43;01mNone\u001b[39;49;00m\u001b[43m}\u001b[49m\u001b[43m)\u001b[49m\u001b[43m,\u001b[49m\n\u001b[1;32m    386\u001b[0m \u001b[43m    \u001b[49m\u001b[43mreturn_only_outputs\u001b[49m\u001b[38;5;241;43m=\u001b[39;49m\u001b[43mreturn_only_outputs\u001b[49m\u001b[43m,\u001b[49m\n\u001b[1;32m    387\u001b[0m \u001b[43m    \u001b[49m\u001b[43minclude_run_info\u001b[49m\u001b[38;5;241;43m=\u001b[39;49m\u001b[43minclude_run_info\u001b[49m\u001b[43m,\u001b[49m\n\u001b[1;32m    388\u001b[0m \u001b[43m\u001b[49m\u001b[43m)\u001b[49m\n",
      "File \u001b[0;32m~/Desktop/aws bedrock/venv/lib/python3.10/site-packages/langchain/chains/base.py:166\u001b[0m, in \u001b[0;36mChain.invoke\u001b[0;34m(self, input, config, **kwargs)\u001b[0m\n\u001b[1;32m    164\u001b[0m \u001b[38;5;28;01mexcept\u001b[39;00m \u001b[38;5;167;01mBaseException\u001b[39;00m \u001b[38;5;28;01mas\u001b[39;00m e:\n\u001b[1;32m    165\u001b[0m     run_manager\u001b[38;5;241m.\u001b[39mon_chain_error(e)\n\u001b[0;32m--> 166\u001b[0m     \u001b[38;5;28;01mraise\u001b[39;00m e\n\u001b[1;32m    167\u001b[0m run_manager\u001b[38;5;241m.\u001b[39mon_chain_end(outputs)\n\u001b[1;32m    169\u001b[0m \u001b[38;5;28;01mif\u001b[39;00m include_run_info:\n",
      "File \u001b[0;32m~/Desktop/aws bedrock/venv/lib/python3.10/site-packages/langchain/chains/base.py:156\u001b[0m, in \u001b[0;36mChain.invoke\u001b[0;34m(self, input, config, **kwargs)\u001b[0m\n\u001b[1;32m    153\u001b[0m \u001b[38;5;28;01mtry\u001b[39;00m:\n\u001b[1;32m    154\u001b[0m     \u001b[38;5;28mself\u001b[39m\u001b[38;5;241m.\u001b[39m_validate_inputs(inputs)\n\u001b[1;32m    155\u001b[0m     outputs \u001b[38;5;241m=\u001b[39m (\n\u001b[0;32m--> 156\u001b[0m         \u001b[38;5;28;43mself\u001b[39;49m\u001b[38;5;241;43m.\u001b[39;49m\u001b[43m_call\u001b[49m\u001b[43m(\u001b[49m\u001b[43minputs\u001b[49m\u001b[43m,\u001b[49m\u001b[43m \u001b[49m\u001b[43mrun_manager\u001b[49m\u001b[38;5;241;43m=\u001b[39;49m\u001b[43mrun_manager\u001b[49m\u001b[43m)\u001b[49m\n\u001b[1;32m    157\u001b[0m         \u001b[38;5;28;01mif\u001b[39;00m new_arg_supported\n\u001b[1;32m    158\u001b[0m         \u001b[38;5;28;01melse\u001b[39;00m \u001b[38;5;28mself\u001b[39m\u001b[38;5;241m.\u001b[39m_call(inputs)\n\u001b[1;32m    159\u001b[0m     )\n\u001b[1;32m    161\u001b[0m     final_outputs: Dict[\u001b[38;5;28mstr\u001b[39m, Any] \u001b[38;5;241m=\u001b[39m \u001b[38;5;28mself\u001b[39m\u001b[38;5;241m.\u001b[39mprep_outputs(\n\u001b[1;32m    162\u001b[0m         inputs, outputs, return_only_outputs\n\u001b[1;32m    163\u001b[0m     )\n\u001b[1;32m    164\u001b[0m \u001b[38;5;28;01mexcept\u001b[39;00m \u001b[38;5;167;01mBaseException\u001b[39;00m \u001b[38;5;28;01mas\u001b[39;00m e:\n",
      "File \u001b[0;32m~/Desktop/aws bedrock/venv/lib/python3.10/site-packages/langchain/chains/llm.py:126\u001b[0m, in \u001b[0;36mLLMChain._call\u001b[0;34m(self, inputs, run_manager)\u001b[0m\n\u001b[1;32m    121\u001b[0m \u001b[38;5;28;01mdef\u001b[39;00m \u001b[38;5;21m_call\u001b[39m(\n\u001b[1;32m    122\u001b[0m     \u001b[38;5;28mself\u001b[39m,\n\u001b[1;32m    123\u001b[0m     inputs: Dict[\u001b[38;5;28mstr\u001b[39m, Any],\n\u001b[1;32m    124\u001b[0m     run_manager: Optional[CallbackManagerForChainRun] \u001b[38;5;241m=\u001b[39m \u001b[38;5;28;01mNone\u001b[39;00m,\n\u001b[1;32m    125\u001b[0m ) \u001b[38;5;241m-\u001b[39m\u001b[38;5;241m>\u001b[39m Dict[\u001b[38;5;28mstr\u001b[39m, \u001b[38;5;28mstr\u001b[39m]:\n\u001b[0;32m--> 126\u001b[0m     response \u001b[38;5;241m=\u001b[39m \u001b[38;5;28;43mself\u001b[39;49m\u001b[38;5;241;43m.\u001b[39;49m\u001b[43mgenerate\u001b[49m\u001b[43m(\u001b[49m\u001b[43m[\u001b[49m\u001b[43minputs\u001b[49m\u001b[43m]\u001b[49m\u001b[43m,\u001b[49m\u001b[43m \u001b[49m\u001b[43mrun_manager\u001b[49m\u001b[38;5;241;43m=\u001b[39;49m\u001b[43mrun_manager\u001b[49m\u001b[43m)\u001b[49m\n\u001b[1;32m    127\u001b[0m     \u001b[38;5;28;01mreturn\u001b[39;00m \u001b[38;5;28mself\u001b[39m\u001b[38;5;241m.\u001b[39mcreate_outputs(response)[\u001b[38;5;241m0\u001b[39m]\n",
      "File \u001b[0;32m~/Desktop/aws bedrock/venv/lib/python3.10/site-packages/langchain/chains/llm.py:138\u001b[0m, in \u001b[0;36mLLMChain.generate\u001b[0;34m(self, input_list, run_manager)\u001b[0m\n\u001b[1;32m    136\u001b[0m callbacks \u001b[38;5;241m=\u001b[39m run_manager\u001b[38;5;241m.\u001b[39mget_child() \u001b[38;5;28;01mif\u001b[39;00m run_manager \u001b[38;5;28;01melse\u001b[39;00m \u001b[38;5;28;01mNone\u001b[39;00m\n\u001b[1;32m    137\u001b[0m \u001b[38;5;28;01mif\u001b[39;00m \u001b[38;5;28misinstance\u001b[39m(\u001b[38;5;28mself\u001b[39m\u001b[38;5;241m.\u001b[39mllm, BaseLanguageModel):\n\u001b[0;32m--> 138\u001b[0m     \u001b[38;5;28;01mreturn\u001b[39;00m \u001b[38;5;28;43mself\u001b[39;49m\u001b[38;5;241;43m.\u001b[39;49m\u001b[43mllm\u001b[49m\u001b[38;5;241;43m.\u001b[39;49m\u001b[43mgenerate_prompt\u001b[49m\u001b[43m(\u001b[49m\n\u001b[1;32m    139\u001b[0m \u001b[43m        \u001b[49m\u001b[43mprompts\u001b[49m\u001b[43m,\u001b[49m\n\u001b[1;32m    140\u001b[0m \u001b[43m        \u001b[49m\u001b[43mstop\u001b[49m\u001b[43m,\u001b[49m\n\u001b[1;32m    141\u001b[0m \u001b[43m        \u001b[49m\u001b[43mcallbacks\u001b[49m\u001b[38;5;241;43m=\u001b[39;49m\u001b[43mcallbacks\u001b[49m\u001b[43m,\u001b[49m\n\u001b[1;32m    142\u001b[0m \u001b[43m        \u001b[49m\u001b[38;5;241;43m*\u001b[39;49m\u001b[38;5;241;43m*\u001b[39;49m\u001b[38;5;28;43mself\u001b[39;49m\u001b[38;5;241;43m.\u001b[39;49m\u001b[43mllm_kwargs\u001b[49m\u001b[43m,\u001b[49m\n\u001b[1;32m    143\u001b[0m \u001b[43m    \u001b[49m\u001b[43m)\u001b[49m\n\u001b[1;32m    144\u001b[0m \u001b[38;5;28;01melse\u001b[39;00m:\n\u001b[1;32m    145\u001b[0m     results \u001b[38;5;241m=\u001b[39m \u001b[38;5;28mself\u001b[39m\u001b[38;5;241m.\u001b[39mllm\u001b[38;5;241m.\u001b[39mbind(stop\u001b[38;5;241m=\u001b[39mstop, \u001b[38;5;241m*\u001b[39m\u001b[38;5;241m*\u001b[39m\u001b[38;5;28mself\u001b[39m\u001b[38;5;241m.\u001b[39mllm_kwargs)\u001b[38;5;241m.\u001b[39mbatch(\n\u001b[1;32m    146\u001b[0m         cast(List, prompts), {\u001b[38;5;124m\"\u001b[39m\u001b[38;5;124mcallbacks\u001b[39m\u001b[38;5;124m\"\u001b[39m: callbacks}\n\u001b[1;32m    147\u001b[0m     )\n",
      "File \u001b[0;32m~/Desktop/aws bedrock/venv/lib/python3.10/site-packages/langchain_core/language_models/llms.py:633\u001b[0m, in \u001b[0;36mBaseLLM.generate_prompt\u001b[0;34m(self, prompts, stop, callbacks, **kwargs)\u001b[0m\n\u001b[1;32m    625\u001b[0m \u001b[38;5;28;01mdef\u001b[39;00m \u001b[38;5;21mgenerate_prompt\u001b[39m(\n\u001b[1;32m    626\u001b[0m     \u001b[38;5;28mself\u001b[39m,\n\u001b[1;32m    627\u001b[0m     prompts: List[PromptValue],\n\u001b[0;32m   (...)\u001b[0m\n\u001b[1;32m    630\u001b[0m     \u001b[38;5;241m*\u001b[39m\u001b[38;5;241m*\u001b[39mkwargs: Any,\n\u001b[1;32m    631\u001b[0m ) \u001b[38;5;241m-\u001b[39m\u001b[38;5;241m>\u001b[39m LLMResult:\n\u001b[1;32m    632\u001b[0m     prompt_strings \u001b[38;5;241m=\u001b[39m [p\u001b[38;5;241m.\u001b[39mto_string() \u001b[38;5;28;01mfor\u001b[39;00m p \u001b[38;5;129;01min\u001b[39;00m prompts]\n\u001b[0;32m--> 633\u001b[0m     \u001b[38;5;28;01mreturn\u001b[39;00m \u001b[38;5;28;43mself\u001b[39;49m\u001b[38;5;241;43m.\u001b[39;49m\u001b[43mgenerate\u001b[49m\u001b[43m(\u001b[49m\u001b[43mprompt_strings\u001b[49m\u001b[43m,\u001b[49m\u001b[43m \u001b[49m\u001b[43mstop\u001b[49m\u001b[38;5;241;43m=\u001b[39;49m\u001b[43mstop\u001b[49m\u001b[43m,\u001b[49m\u001b[43m \u001b[49m\u001b[43mcallbacks\u001b[49m\u001b[38;5;241;43m=\u001b[39;49m\u001b[43mcallbacks\u001b[49m\u001b[43m,\u001b[49m\u001b[43m \u001b[49m\u001b[38;5;241;43m*\u001b[39;49m\u001b[38;5;241;43m*\u001b[39;49m\u001b[43mkwargs\u001b[49m\u001b[43m)\u001b[49m\n",
      "File \u001b[0;32m~/Desktop/aws bedrock/venv/lib/python3.10/site-packages/langchain_core/language_models/llms.py:803\u001b[0m, in \u001b[0;36mBaseLLM.generate\u001b[0;34m(self, prompts, stop, callbacks, tags, metadata, run_name, run_id, **kwargs)\u001b[0m\n\u001b[1;32m    788\u001b[0m \u001b[38;5;28;01mif\u001b[39;00m (\u001b[38;5;28mself\u001b[39m\u001b[38;5;241m.\u001b[39mcache \u001b[38;5;129;01mis\u001b[39;00m \u001b[38;5;28;01mNone\u001b[39;00m \u001b[38;5;129;01mand\u001b[39;00m get_llm_cache() \u001b[38;5;129;01mis\u001b[39;00m \u001b[38;5;28;01mNone\u001b[39;00m) \u001b[38;5;129;01mor\u001b[39;00m \u001b[38;5;28mself\u001b[39m\u001b[38;5;241m.\u001b[39mcache \u001b[38;5;129;01mis\u001b[39;00m \u001b[38;5;28;01mFalse\u001b[39;00m:\n\u001b[1;32m    789\u001b[0m     run_managers \u001b[38;5;241m=\u001b[39m [\n\u001b[1;32m    790\u001b[0m         callback_manager\u001b[38;5;241m.\u001b[39mon_llm_start(\n\u001b[1;32m    791\u001b[0m             dumpd(\u001b[38;5;28mself\u001b[39m),\n\u001b[0;32m   (...)\u001b[0m\n\u001b[1;32m    801\u001b[0m         )\n\u001b[1;32m    802\u001b[0m     ]\n\u001b[0;32m--> 803\u001b[0m     output \u001b[38;5;241m=\u001b[39m \u001b[38;5;28;43mself\u001b[39;49m\u001b[38;5;241;43m.\u001b[39;49m\u001b[43m_generate_helper\u001b[49m\u001b[43m(\u001b[49m\n\u001b[1;32m    804\u001b[0m \u001b[43m        \u001b[49m\u001b[43mprompts\u001b[49m\u001b[43m,\u001b[49m\u001b[43m \u001b[49m\u001b[43mstop\u001b[49m\u001b[43m,\u001b[49m\u001b[43m \u001b[49m\u001b[43mrun_managers\u001b[49m\u001b[43m,\u001b[49m\u001b[43m \u001b[49m\u001b[38;5;28;43mbool\u001b[39;49m\u001b[43m(\u001b[49m\u001b[43mnew_arg_supported\u001b[49m\u001b[43m)\u001b[49m\u001b[43m,\u001b[49m\u001b[43m \u001b[49m\u001b[38;5;241;43m*\u001b[39;49m\u001b[38;5;241;43m*\u001b[39;49m\u001b[43mkwargs\u001b[49m\n\u001b[1;32m    805\u001b[0m \u001b[43m    \u001b[49m\u001b[43m)\u001b[49m\n\u001b[1;32m    806\u001b[0m     \u001b[38;5;28;01mreturn\u001b[39;00m output\n\u001b[1;32m    807\u001b[0m \u001b[38;5;28;01mif\u001b[39;00m \u001b[38;5;28mlen\u001b[39m(missing_prompts) \u001b[38;5;241m>\u001b[39m \u001b[38;5;241m0\u001b[39m:\n",
      "File \u001b[0;32m~/Desktop/aws bedrock/venv/lib/python3.10/site-packages/langchain_core/language_models/llms.py:670\u001b[0m, in \u001b[0;36mBaseLLM._generate_helper\u001b[0;34m(self, prompts, stop, run_managers, new_arg_supported, **kwargs)\u001b[0m\n\u001b[1;32m    668\u001b[0m     \u001b[38;5;28;01mfor\u001b[39;00m run_manager \u001b[38;5;129;01min\u001b[39;00m run_managers:\n\u001b[1;32m    669\u001b[0m         run_manager\u001b[38;5;241m.\u001b[39mon_llm_error(e, response\u001b[38;5;241m=\u001b[39mLLMResult(generations\u001b[38;5;241m=\u001b[39m[]))\n\u001b[0;32m--> 670\u001b[0m     \u001b[38;5;28;01mraise\u001b[39;00m e\n\u001b[1;32m    671\u001b[0m flattened_outputs \u001b[38;5;241m=\u001b[39m output\u001b[38;5;241m.\u001b[39mflatten()\n\u001b[1;32m    672\u001b[0m \u001b[38;5;28;01mfor\u001b[39;00m manager, flattened_output \u001b[38;5;129;01min\u001b[39;00m \u001b[38;5;28mzip\u001b[39m(run_managers, flattened_outputs):\n",
      "File \u001b[0;32m~/Desktop/aws bedrock/venv/lib/python3.10/site-packages/langchain_core/language_models/llms.py:657\u001b[0m, in \u001b[0;36mBaseLLM._generate_helper\u001b[0;34m(self, prompts, stop, run_managers, new_arg_supported, **kwargs)\u001b[0m\n\u001b[1;32m    647\u001b[0m \u001b[38;5;28;01mdef\u001b[39;00m \u001b[38;5;21m_generate_helper\u001b[39m(\n\u001b[1;32m    648\u001b[0m     \u001b[38;5;28mself\u001b[39m,\n\u001b[1;32m    649\u001b[0m     prompts: List[\u001b[38;5;28mstr\u001b[39m],\n\u001b[0;32m   (...)\u001b[0m\n\u001b[1;32m    653\u001b[0m     \u001b[38;5;241m*\u001b[39m\u001b[38;5;241m*\u001b[39mkwargs: Any,\n\u001b[1;32m    654\u001b[0m ) \u001b[38;5;241m-\u001b[39m\u001b[38;5;241m>\u001b[39m LLMResult:\n\u001b[1;32m    655\u001b[0m     \u001b[38;5;28;01mtry\u001b[39;00m:\n\u001b[1;32m    656\u001b[0m         output \u001b[38;5;241m=\u001b[39m (\n\u001b[0;32m--> 657\u001b[0m             \u001b[38;5;28;43mself\u001b[39;49m\u001b[38;5;241;43m.\u001b[39;49m\u001b[43m_generate\u001b[49m\u001b[43m(\u001b[49m\n\u001b[1;32m    658\u001b[0m \u001b[43m                \u001b[49m\u001b[43mprompts\u001b[49m\u001b[43m,\u001b[49m\n\u001b[1;32m    659\u001b[0m \u001b[43m                \u001b[49m\u001b[43mstop\u001b[49m\u001b[38;5;241;43m=\u001b[39;49m\u001b[43mstop\u001b[49m\u001b[43m,\u001b[49m\n\u001b[1;32m    660\u001b[0m \u001b[43m                \u001b[49m\u001b[38;5;66;43;03m# TODO: support multiple run managers\u001b[39;49;00m\n\u001b[1;32m    661\u001b[0m \u001b[43m                \u001b[49m\u001b[43mrun_manager\u001b[49m\u001b[38;5;241;43m=\u001b[39;49m\u001b[43mrun_managers\u001b[49m\u001b[43m[\u001b[49m\u001b[38;5;241;43m0\u001b[39;49m\u001b[43m]\u001b[49m\u001b[43m \u001b[49m\u001b[38;5;28;43;01mif\u001b[39;49;00m\u001b[43m \u001b[49m\u001b[43mrun_managers\u001b[49m\u001b[43m \u001b[49m\u001b[38;5;28;43;01melse\u001b[39;49;00m\u001b[43m \u001b[49m\u001b[38;5;28;43;01mNone\u001b[39;49;00m\u001b[43m,\u001b[49m\n\u001b[1;32m    662\u001b[0m \u001b[43m                \u001b[49m\u001b[38;5;241;43m*\u001b[39;49m\u001b[38;5;241;43m*\u001b[39;49m\u001b[43mkwargs\u001b[49m\u001b[43m,\u001b[49m\n\u001b[1;32m    663\u001b[0m \u001b[43m            \u001b[49m\u001b[43m)\u001b[49m\n\u001b[1;32m    664\u001b[0m             \u001b[38;5;28;01mif\u001b[39;00m new_arg_supported\n\u001b[1;32m    665\u001b[0m             \u001b[38;5;28;01melse\u001b[39;00m \u001b[38;5;28mself\u001b[39m\u001b[38;5;241m.\u001b[39m_generate(prompts, stop\u001b[38;5;241m=\u001b[39mstop)\n\u001b[1;32m    666\u001b[0m         )\n\u001b[1;32m    667\u001b[0m     \u001b[38;5;28;01mexcept\u001b[39;00m \u001b[38;5;167;01mBaseException\u001b[39;00m \u001b[38;5;28;01mas\u001b[39;00m e:\n\u001b[1;32m    668\u001b[0m         \u001b[38;5;28;01mfor\u001b[39;00m run_manager \u001b[38;5;129;01min\u001b[39;00m run_managers:\n",
      "File \u001b[0;32m~/Desktop/aws bedrock/venv/lib/python3.10/site-packages/langchain_core/language_models/llms.py:1317\u001b[0m, in \u001b[0;36mLLM._generate\u001b[0;34m(self, prompts, stop, run_manager, **kwargs)\u001b[0m\n\u001b[1;32m   1314\u001b[0m new_arg_supported \u001b[38;5;241m=\u001b[39m inspect\u001b[38;5;241m.\u001b[39msignature(\u001b[38;5;28mself\u001b[39m\u001b[38;5;241m.\u001b[39m_call)\u001b[38;5;241m.\u001b[39mparameters\u001b[38;5;241m.\u001b[39mget(\u001b[38;5;124m\"\u001b[39m\u001b[38;5;124mrun_manager\u001b[39m\u001b[38;5;124m\"\u001b[39m)\n\u001b[1;32m   1315\u001b[0m \u001b[38;5;28;01mfor\u001b[39;00m prompt \u001b[38;5;129;01min\u001b[39;00m prompts:\n\u001b[1;32m   1316\u001b[0m     text \u001b[38;5;241m=\u001b[39m (\n\u001b[0;32m-> 1317\u001b[0m         \u001b[38;5;28;43mself\u001b[39;49m\u001b[38;5;241;43m.\u001b[39;49m\u001b[43m_call\u001b[49m\u001b[43m(\u001b[49m\u001b[43mprompt\u001b[49m\u001b[43m,\u001b[49m\u001b[43m \u001b[49m\u001b[43mstop\u001b[49m\u001b[38;5;241;43m=\u001b[39;49m\u001b[43mstop\u001b[49m\u001b[43m,\u001b[49m\u001b[43m \u001b[49m\u001b[43mrun_manager\u001b[49m\u001b[38;5;241;43m=\u001b[39;49m\u001b[43mrun_manager\u001b[49m\u001b[43m,\u001b[49m\u001b[43m \u001b[49m\u001b[38;5;241;43m*\u001b[39;49m\u001b[38;5;241;43m*\u001b[39;49m\u001b[43mkwargs\u001b[49m\u001b[43m)\u001b[49m\n\u001b[1;32m   1318\u001b[0m         \u001b[38;5;28;01mif\u001b[39;00m new_arg_supported\n\u001b[1;32m   1319\u001b[0m         \u001b[38;5;28;01melse\u001b[39;00m \u001b[38;5;28mself\u001b[39m\u001b[38;5;241m.\u001b[39m_call(prompt, stop\u001b[38;5;241m=\u001b[39mstop, \u001b[38;5;241m*\u001b[39m\u001b[38;5;241m*\u001b[39mkwargs)\n\u001b[1;32m   1320\u001b[0m     )\n\u001b[1;32m   1321\u001b[0m     generations\u001b[38;5;241m.\u001b[39mappend([Generation(text\u001b[38;5;241m=\u001b[39mtext)])\n\u001b[1;32m   1322\u001b[0m \u001b[38;5;28;01mreturn\u001b[39;00m LLMResult(generations\u001b[38;5;241m=\u001b[39mgenerations)\n",
      "File \u001b[0;32m~/Desktop/aws bedrock/venv/lib/python3.10/site-packages/langchain_community/llms/bedrock.py:843\u001b[0m, in \u001b[0;36mBedrock._call\u001b[0;34m(self, prompt, stop, run_manager, **kwargs)\u001b[0m\n\u001b[1;32m    840\u001b[0m         completion \u001b[38;5;241m+\u001b[39m\u001b[38;5;241m=\u001b[39m chunk\u001b[38;5;241m.\u001b[39mtext\n\u001b[1;32m    841\u001b[0m     \u001b[38;5;28;01mreturn\u001b[39;00m completion\n\u001b[0;32m--> 843\u001b[0m text, _ \u001b[38;5;241m=\u001b[39m \u001b[38;5;28;43mself\u001b[39;49m\u001b[38;5;241;43m.\u001b[39;49m\u001b[43m_prepare_input_and_invoke\u001b[49m\u001b[43m(\u001b[49m\n\u001b[1;32m    844\u001b[0m \u001b[43m    \u001b[49m\u001b[43mprompt\u001b[49m\u001b[38;5;241;43m=\u001b[39;49m\u001b[43mprompt\u001b[49m\u001b[43m,\u001b[49m\u001b[43m \u001b[49m\u001b[43mstop\u001b[49m\u001b[38;5;241;43m=\u001b[39;49m\u001b[43mstop\u001b[49m\u001b[43m,\u001b[49m\u001b[43m \u001b[49m\u001b[43mrun_manager\u001b[49m\u001b[38;5;241;43m=\u001b[39;49m\u001b[43mrun_manager\u001b[49m\u001b[43m,\u001b[49m\u001b[43m \u001b[49m\u001b[38;5;241;43m*\u001b[39;49m\u001b[38;5;241;43m*\u001b[39;49m\u001b[43mkwargs\u001b[49m\n\u001b[1;32m    845\u001b[0m \u001b[43m\u001b[49m\u001b[43m)\u001b[49m\n\u001b[1;32m    846\u001b[0m \u001b[38;5;28;01mreturn\u001b[39;00m text\n",
      "File \u001b[0;32m~/Desktop/aws bedrock/venv/lib/python3.10/site-packages/langchain_community/llms/bedrock.py:552\u001b[0m, in \u001b[0;36mBedrockBase._prepare_input_and_invoke\u001b[0;34m(self, prompt, system, messages, stop, run_manager, **kwargs)\u001b[0m\n\u001b[1;32m    547\u001b[0m     text, body, usage_info \u001b[38;5;241m=\u001b[39m LLMInputOutputAdapter\u001b[38;5;241m.\u001b[39mprepare_output(\n\u001b[1;32m    548\u001b[0m         provider, response\n\u001b[1;32m    549\u001b[0m     )\u001b[38;5;241m.\u001b[39mvalues()\n\u001b[1;32m    551\u001b[0m \u001b[38;5;28;01mexcept\u001b[39;00m \u001b[38;5;167;01mException\u001b[39;00m \u001b[38;5;28;01mas\u001b[39;00m e:\n\u001b[0;32m--> 552\u001b[0m     \u001b[38;5;28;01mraise\u001b[39;00m \u001b[38;5;167;01mValueError\u001b[39;00m(\u001b[38;5;124mf\u001b[39m\u001b[38;5;124m\"\u001b[39m\u001b[38;5;124mError raised by bedrock service: \u001b[39m\u001b[38;5;132;01m{\u001b[39;00me\u001b[38;5;132;01m}\u001b[39;00m\u001b[38;5;124m\"\u001b[39m)\n\u001b[1;32m    554\u001b[0m \u001b[38;5;28;01mif\u001b[39;00m stop \u001b[38;5;129;01mis\u001b[39;00m \u001b[38;5;129;01mnot\u001b[39;00m \u001b[38;5;28;01mNone\u001b[39;00m:\n\u001b[1;32m    555\u001b[0m     text \u001b[38;5;241m=\u001b[39m enforce_stop_tokens(text, stop)\n",
      "\u001b[0;31mValueError\u001b[0m: Error raised by bedrock service: An error occurred (ValidationException) when calling the InvokeModel operation: This model's maximum context length is 4096 tokens. Please reduce the length of the prompt"
     ]
    }
   ],
   "source": [
    "response = agent.invoke(\n",
    "                {\"input\": \"Hello\"}, {\"callbacks\": [st_callback]}\n",
    "            )\n",
    "            "
   ]
  },
  {
   "cell_type": "code",
   "execution_count": 46,
   "metadata": {},
   "outputs": [
    {
     "data": {
      "text/plain": [
       "[Document(page_content='The Barclays Bank UK Board approves the Barclays Bank UK Group funding plan, internal stress tests, regulatory stress test results, and the \\nBarclays Bank UK contribution to the Barclays Group recovery plan. The Barclays Bank UK PLC ALCO is responsible for monitoring and \\nmanaging liquidity risk in line with the Barclays Bank UK Group’s funding management objectives, funding plan and risk framework. The \\nBarclays UK Risk Committee monitors and reviews the liquidity risk profile and control environment, providing second line oversight of the \\nmanagement of liquidity risk. The Barclays Bank UK PLC Board Risk Committee reviews the risk profile, and reviews liquidity risk appetite at \\nleast annually and the impact of stress scenarios on the Barclays Bank UK Group funding plan/forecast in order to agree the Barclays Bank \\nUK Group’s projected funding abilities.\\nCapital risk management (audited)\\nOverview\\nCapital risk is managed through ongoing monitoring and management of the capital and leverage position, regular stress testing and a \\nrobust capital governance framework. The objectives of the framework are to maintain adequate capital for the Barclays Bank UK Group to \\nwithstand the impact of the risks that may arise under normal and stressed conditions, and maintain adequate capital to cover current and \\nforecast business needs and associated risks to provide a viable and sustainable business offering. The Barclays Bank UK Group  aims to \\nprudently manage its overall leverage position (including risk of excessive leverage) by utilising plausible stress scenarios, reviewing and \\ndeploying management actions in response to deteriorating economic and commercial positions.  In order to manage contingent leverage \\nrisk, the Barclays Bank UK Group considers the context from which the business consumption arises, the impact of client utilisation on \\nleverage and the available actions to manage. \\nOrganisation, roles and responsibilities\\nTreasury has the primary responsibility for managing and monitoring capital adequacy. The Barclays Bank UK Group Treasury and Capital \\nRisk function provides oversight of capital risk. Production of the Barclays Bank UK PLC Internal Capital Adequacy Assessment Process is \\nthe responsibility of Barclays Bank UK Group Treasury.\\nCapital risk management is underpinned by a control framework and policies. Capital plans reflect the capital management strategy and \\nare implemented to deliver on the Barclays Bank UK Group’s objectives, which are aligned to those of Barclays Group. The Barclays Bank UK \\nGroup-specific capital plans are developed in conformance with the Barclays Group control framework and policies for capital risk.\\nThe Barclays Bank UK PLC Board approves the Barclays Bank UK Group capital plan, internal stress tests and results of regulatory stress \\ntests. The Barclays Bank UK PLC Board also approves the recovery options documented in the Barclays Group recovery plan pertaining to \\nthe Barclays Bank UK Group. The Barclays Bank UK PLC ALCO is responsible for monitoring and managing capital risk in line with the \\nBarclays Bank UK Group’s capital management objectives, capital plan and risk frameworks. The Barclays UK Risk Committee monitors and \\nreviews the capital risk profile and control environment, providing second line oversight of the management of capital risk. The Barclays \\nBank UK PLC Board Risk Committee reviews the risk profile, and sets risk appetite at a minimum annually and the impact of stress scenarios \\non the Barclays Bank UK Group capital plan/forecast in order to agree Barclays Bank UK Group’s projected capital resources.\\nManagement assures compliance with minimum regulatory capital requirements  by reporting to the Barclays Bank UK PLC ALCO with \\noversight by the Barclays Group Treasury Committee, as required. In 2023, Barclays complied with all regulatory minimum capital \\nrequirements . Contingent leverage risk is managed by; i) setting comprehensive leverage (and RWA) targets for each business as part of \\nthe Treasury capital management process, taking into account adherence to early warning indicators and maintain a healthy leverage ratio, \\nand; ii) Monitoring execution of actions taken to course-correct as necessary.\\nBarclays Bank UK PLC is a participating employer in the UK Retirement Fund (UKRF), whose assets and liabilities are currently held on the \\nBarclays Bank PLC balance sheet. This participation is expected to cease in 2025. The nature of pension risk for Barclays Bank UK PLC is \\ncontingent, specifically on a Barclays Bank PLC default. Refer to note 28 Staff Costs for further detail.\\nInterest rate risk in the banking book management (IRRBB)\\nOverview\\nInterest rate risk in the banking book is driven by customer deposit taking and lending activities, investments in the liquid asset portfolio \\nand funding activities. As per the Barclays Bank UK Group’s policy to remain within the defined risk appetite, hedging strategies are \\nexecuted to mitigate the various IRRBB risks that result from these activities. However, the Barclays Bank UK Group remains susceptible to \\ninterest rate risk and other non-traded market risks from the following key sources:\\n▪Interest rate and repricing risk : the risk that net interest income could be adversely impacted by a change in interest rates, differences in \\nthe timing of interest rate changes between assets and liabilities, and other constraints on interest rate changes as per product terms and \\nconditions.\\n▪Customer behavioural risk : the risk that net interest income could be adversely impacted by the discretion that customers and \\ncounterparties may have in respect of being able to vary from their contractual obligations with the Barclays Bank UK Group. This risk is \\noften referred to by industry regulators as ‘embedded option risk’.\\n▪Investment risks in the liquid asset portfolio : the risk that the fair value of assets held in the liquid asset portfolio and associated risk \\nmanagement portfolios could be adversely impacted by market volatility, creating volatility in capital directly.\\nOrganisation, roles and responsibilities\\nThe Barclays Bank UK Group ALCO, together with the Barclays Group Treasury Committee, are responsible for monitoring and managing \\nIRRBB risk in line with the Barclays Bank UK Group’s management objectives and risk frameworks. The Barclays UK Risk Committee and \\nTreasury and Capital Risk Committee monitor and review the IRRBB risk profile and control environment, providing second line oversight of \\nthe management of IRRBB. The Barclays Bank UK Group Board Risk Committee reviews the interest rate risk profile, including setting of risk \\nappetite at a minimum annually and the impact of stress scenarios on the interest rate risk of the Barclays Bank UK Group’s banking books.Risk review\\nPrincipal risk management\\nhome.barclays/annualreport 66 Barclays Bank UK PLC Annual Report', metadata={'source': 'reports/Barclays-Bank-UK-Annual-Report-2023-Results-committee.pdf', 'page': 66}),\n",
       " Document(page_content='The Strategic Report was approved by the Board of Directors on 19\\xa0February 2024  and signed on their behalf by the Chair.\\nOverview\\nBarclays Bank UK PLC (the Company) is a wholly-owned subsidiary of Barclays PLC . The consolidation of Barclays Bank UK PLC and its \\nsubsidiaries is referred to as the Barclays Bank UK Group. The term Barclays refers to Barclays PLC, or depending on context the Barclays \\nGroup, and Barclays Group refers to Barclays PLC, together with its subsidiaries. \\nBarclays Bank UK PLC is the ring-fenced bank within the Barclays Group.  The Barclays Bank UK Group contains the majority of the Barclays \\nGroup’s Barclays UK division, including the Personal Banking, Business Banking and Barclaycard Consumer UK businesses other than the \\nBarclays Partner Finance business.\\nOur structure\\nBarclays Bank UK PLC\\nPersonal Banking Business Banking Barclaycard Consumer UK\\nBarclays is one of the most recognisable brands in the UK. We serve customers across a wide range of retail banking needs, from credit \\ncard users, to start-up businesses, to homebuyers getting on the property ladder for the first time.\\nPersonal Banking\\nOffers retail solutions to help customers with their day-to-day banking needs.\\nBusiness Banking\\nServes business clients, from high growth start-ups to small and medium-sized businesses, with specialist advice. \\nBarclaycard Consumer UK\\nA leading credit card provider, offering flexible borrowing and payment solutions, while delivering a leading customer experience. \\nBarclays Bank UK PLC is supported by the Barclays Group service company, Barclays Execution Services Limited (BX), which provides \\ntechnology, operations and functional services to businesses across the Barclays Group.\\nThe world in which we operate\\nBarclays  Bank UK PLC is driven by a common Purpose: working together for a better financial future.  To do so we must\\xa0be strong as an \\ninstitution, prepared for the future, and able to navigate different market conditions and evolving trends.\\nWe continually review our operating environment for emerging trends, and adapt to address them. As part of the Barclays Group in  2021 \\nwe called out  three long-term trends and continue to make good progress preparing for these, as you will find detailed throughout the \\nreport:\\n• The impact of technology on consumer products and services\\n• The role of capital markets as the principal drivers of global growth\\n• The transition of the global economy towards a low-carbon economy\\nMost recently, we have adjusted our strategy and operating model to take account of a number of major trends, as well\\xa0as changes in the \\nenvironment we operate in, and evolving demands from our customers, clients, regulators and shareholders. These include shifts in risk \\nand capital requirements, increasing external appetite to invest in technological advancements, and investor expectations.\\nFocus areas\\n• Offering banking services that meet the needs of today’s and tomorrow’s customers and clients, making money work for them. \\n• Pursuing digital innovation and helping colleagues focus on value-adding customer interactions. \\n• Making our customers’ communities better tomorrow than they are today, and seeking out opportunities for an inclusive and \\nsustainable future.Strategic Report\\nPerformance review\\nhome.barclays/annualreport 2 Barclays Bank UK PLC Annual Report', metadata={'source': 'reports/Barclays-Bank-UK-Annual-Report-2023-Results-committee.pdf', 'page': 2}),\n",
       " Document(page_content='Joint Venture % Note\\nUnited Kingdom\\nAll Saints Triangle, Caledonian Road, London, N1 9UT\\nVaultex UK Limited 50.00 A\\nJoint management factors\\nThe Joint Venture board comprises two Barclays representative directors, two Joint Venture partner directors and three non Joint Venture \\npartner directors. The Board of Directors are responsible for setting the company strategy and budgets. For IFRS purposes, Vaultex is \\naccounted for as a Joint Operation in the Barclays Bank UK Group financial statements.\\nThe last financial year of the above Joint Venture ended on 6 October 2023 and the average number of monthly employees reported in the \\naccounts was 1,216.Notes to the financial statements\\nOther disclosure matters\\nhome.barclays/annualreport 233 Barclays Bank UK PLC Annual Report', metadata={'source': 'reports/Barclays-Bank-UK-Annual-Report-2023-Results-committee.pdf', 'page': 233}),\n",
       " Document(page_content=\"Reporting phishing  \\nCSO performs a number of key activities related to identifying, investigating, responding to and containing phishi ng/malicious email \\nincidents. CSO has embedded an operational process that provides education and awareness content via email to colleagues who click a \\nmalicious link or attachment in a phishing email, with escalating training exercises and management interventions for repeated instances. \\nTo report suspected phishing to Barclays' JOC for further investigation, colleagues have a tool integrated into their email account, and \\ncolleagues receive feedback on whether the reported email was suspect or genuine. CSO also runs monthly phishing simulations to \\nunderstand colleagues' susceptibility to real attacks, using the analysis to refine education and training.\\nTraining\\nBarclays has adopted a 65-day window for mandatory training completion to allow colleagues sufficient time to complete training. The \\nconsequence of non-completion is a breach which can lead to disciplinary action and impact compensation.\\nThe 65-day window covers many different colleague situations, including new joiners, returners from sick leave or parental leave and \\ninternal movers. Some of these situations are required by law to have a reasonable adjustment time to enable the successful completion of \\ntraining. This process is managed by Barclays HR and Compliance.Governance\\nOther Governance\\nhome.barclays/annualreport 39 Barclays Bank UK PLC Annual Report\", metadata={'source': 'reports/Barclays-Bank-UK-Annual-Report-2023-Results-committee.pdf', 'page': 39})]"
      ]
     },
     "execution_count": 46,
     "metadata": {},
     "output_type": "execute_result"
    }
   ],
   "source": [
    "vectorstore.similarity_search(\"Hello\")"
   ]
  },
  {
   "cell_type": "code",
   "execution_count": null,
   "metadata": {},
   "outputs": [],
   "source": []
  },
  {
   "cell_type": "code",
   "execution_count": null,
   "metadata": {},
   "outputs": [],
   "source": []
  },
  {
   "cell_type": "code",
   "execution_count": null,
   "metadata": {},
   "outputs": [],
   "source": []
  },
  {
   "cell_type": "code",
   "execution_count": 26,
   "metadata": {},
   "outputs": [],
   "source": [
    "faiss_index = FAISS.load_local(\"faiss_index_pdfs\", bedrock_embeddings, allow_dangerous_deserialization=True)\n",
    "llm=get_llama2_llm()"
   ]
  },
  {
   "cell_type": "code",
   "execution_count": 32,
   "metadata": {},
   "outputs": [],
   "source": [
    "prompt_template = \"\"\"\n",
    "\n",
    "Human: Use the following pieces of context to provide a \n",
    "concise answer to the question at the end but usse atleast summarize with \n",
    "100 words with detailed explantions. If you don't know the answer, \n",
    "just say that you don't know, don't try to make up an answer.\n",
    "<context>\n",
    "{context}\n",
    "</context\n",
    "\n",
    "Question: {question}\n",
    "\n",
    "Assistant:\"\"\""
   ]
  },
  {
   "cell_type": "code",
   "execution_count": 33,
   "metadata": {},
   "outputs": [
    {
     "data": {
      "text/plain": [
       "PromptTemplate(input_variables=['context', 'question'], template=\"\\n\\nHuman: Use the following pieces of context to provide a \\nconcise answer to the question at the end but usse atleast summarize with \\n100 words with detailed explantions. If you don't know the answer, \\njust say that you don't know, don't try to make up an answer.\\n<context>\\n{context}\\n</context\\n\\nQuestion: {question}\\n\\nAssistant:\")"
      ]
     },
     "execution_count": 33,
     "metadata": {},
     "output_type": "execute_result"
    }
   ],
   "source": [
    "PROMPT = PromptTemplate(\n",
    "    template=prompt_template, input_variables=[\"context\", \"question\"]\n",
    ")\n",
    "PROMPT"
   ]
  },
  {
   "cell_type": "code",
   "execution_count": 36,
   "metadata": {},
   "outputs": [],
   "source": [
    "\n",
    "qa = RetrievalQA.from_chain_type(\n",
    "llm=llm,\n",
    "chain_type=\"stuff\",\n",
    "retriever=faiss_index.as_retriever(\n",
    "    search_type=\"similarity\", search_kwargs={\"k\": 3}\n",
    "),\n",
    "return_source_documents=False,\n",
    "chain_type_kwargs={\"prompt\": PROMPT}\n",
    ")\n",
    "answer=qa({\"query\":\"Hello\"})"
   ]
  },
  {
   "cell_type": "code",
   "execution_count": 37,
   "metadata": {},
   "outputs": [
    {
     "data": {
      "text/plain": [
       "{'query': 'Hello',\n",
       " 'result': \" Hi there! I'm here to help you with any questions you have. What's your question?\"}"
      ]
     },
     "execution_count": 37,
     "metadata": {},
     "output_type": "execute_result"
    }
   ],
   "source": [
    "answer"
   ]
  },
  {
   "cell_type": "code",
   "execution_count": 52,
   "metadata": {},
   "outputs": [],
   "source": [
    "from pypdf import PdfReader\n",
    "\n"
   ]
  },
  {
   "cell_type": "code",
   "execution_count": 54,
   "metadata": {},
   "outputs": [
    {
     "name": "stdout",
     "output_type": "stream",
     "text": [
      "The F ederal Reserv e conducts the ann ual Compr ehensi ve Capital and Ana lysis R eview (CCAR)\n",
      "exercise to assess ca pital positions and planning pr actices of large firms consistent with R egula-\n",
      "tion YY (12 CFR part 252) and the ca pital plan rule (12 CFR 225.8).1The F ederal Reserv e\n",
      "conducts a quantita tive assessment of firms’ ca pital positions in CCAR using the Dod d-Frank\n",
      "Act str ess tests (DF AST) as implemented in R egula tion YY .2The F ederal Reserv e also collects\n",
      "information r elevant to the CCAR and DF AST e xercises on the FR Y -14 r eports .3\n",
      "Federal Reserv e staf f provides ans wers to questions fr om f irms related to CCAR and DF AST\n",
      "on an ongoing basis to assist with the interpr etation of reporting instructions and r elated r egu-\n",
      "lations and supervisory guidance . These questions and ans wers ar e provided dir ectly to a ll firms\n",
      "subject to CCAR and DF AST and pub lished on the F ederal Reserv e’s w ebsite to facilita te\n",
      "transpar ency and consistency of interpr etation and a pplica tion of related rules and guidance .\n",
      "These questions and ans wers:\n",
      "•Include gener ally applicable questions ask ed by f irms subject to CCAR and DF AST .The\n",
      "questions and ans wers ma y not a pply to e very f irm subject to CCAR and DF AST .\n",
      "Responses pr ovided in this pub lication a pply for purposes of CCAR and DF AST and ar e\n",
      "not necessaril y applica ble to other Boar d regula tions or r egula tory r eports .\n",
      "•Apply to r equir ements and materials a vailable at that time. The r esponses ar e based on inf or-\n",
      "mation pr ovided to and a vailable to F ederal Reserv e staf f at the time of the submission of\n",
      "the question. A r esponse da te is included to he lp pr ovide r eference to the a pplica ble regula-\n",
      "tory r equir ements and associa ted forms and instructions . Responses ma y be superseded b y\n",
      "subsequent r egula tions and comm unica tions .\n",
      "•Include questions submitted on or after A ugust 1, 2017. Earlier questions and r esponses ma y\n",
      "be made pub licly available as a pplica ble and if referenced b y a curr ent question. The r eport\n",
      "does not include questions or r esponses f or w hich conf identia l treatment w as gr anted.\n",
      "CCAR Q&As by topic categories\n",
      "•Gener al\n",
      "•Adjustment to Ca pital Plan\n",
      "•DFAST\n",
      "•Disclosur e\n",
      "•Manda tory Elements\n",
      "•Market Shock\n",
      "•Range of Practice and Supervisory Expecta tions\n",
      "•Resubmission\n",
      "•Scenarios\n",
      "1For mor e information on the F ederal Reserv e’s CCAR assessments and r elated pub lications , see www\n",
      ".feder alreserv e.gov/supervisionr eg/ccar .htm . \n",
      "2For mor e information on the F ederal Reserv e’s implementa tion of Dod d-Frank Act str ess tests , see www\n",
      ".feder alreserv e.gov/supervisionr eg/dfa-str ess-tests .htm . \n",
      "3The Ca pital Assessments and Str ess T esting inf ormation collection (FR Y -14) consists of the FR Y -14A, Q, and\n",
      "M reports . Ther e is a lso a separ ate FR Y -14 Q&A pub lication. See inf ormation on FR Y -14 and the r elated Q&A\n",
      "process: https://www .feder alreserv e.gov/pub lications/y-14-qas .htm . March 2021Compr ehensi ve Capital and Ana lysis\n",
      "Review and Dod d-Frank Act Str ess T ests\n",
      "Questions and Ans wers\n",
      "Boar d of Governors of the F ederal Reserv e System www .feder alreserv e.gov\n"
     ]
    }
   ],
   "source": [
    "reader = PdfReader(\"pdfs/CCAR-QAs.pdf\")\n",
    "page = reader.pages[0]\n",
    "print(page.extract_text())"
   ]
  },
  {
   "cell_type": "code",
   "execution_count": 59,
   "metadata": {},
   "outputs": [],
   "source": [
    "loader=PyPDFDirectoryLoader(\"guidelines\")\n",
    "documents=loader.load()\n",
    "\n",
    "# - in our testing Character split works better with this PDF data set\n",
    "text_splitter=RecursiveCharacterTextSplitter(chunk_size=10000,\n",
    "                                                chunk_overlap=1000)\n",
    "\n",
    "docs=text_splitter.split_documents(documents)"
   ]
  },
  {
   "cell_type": "code",
   "execution_count": 68,
   "metadata": {},
   "outputs": [
    {
     "data": {
      "text/plain": [
       "'Global Market Shock\\nFirms with significant trading activity must include\\nin their company-run stress tests under the supervi-\\nsory severely adverse scenario a component that\\nassesses potential losses associated with trading posi-\\ntions, private equity positions, and counterparty\\nexposures (global market shock). The Board modi-\\nfied the threshold for the global market shock com-\\nponent in 2017 to apply to any firm that is subject to\\nsupervisory stress tests and that has aggregate trad-\\ning assets and liabilities of $50 billion or more, or\\naggregate trading assets and liabilities equal to\\n10 percent or more of total consolidated assets, and\\nis not a large and noncomplex firm.25\\nFirms subject to the global market shock in CCAR\\n2020 must apply the shock as of a specified point in\\ntime, which will result in instantaneous losses and a\\nreduction in capital. These losses and related capital\\nimpact will be included in projections for the first\\nquarter of the planning horizon. The as-of date for\\nthe global market shock is October 18, 2019.\\nThe global market shock is an add-on component of\\nthe supervisory severely adverse scenario that is\\nexogenous to the macroeconomic and financial mar-\\nket environment specified in that scenario. As a\\nresult, losses from the global market shock should be\\nviewed as an addition to the estimates of losses\\nunder the macroeconomic scenario.26 Firms subject\\nto the global market shock should not assume for the\\npurposes of calculating post-stress capital ratios that\\nthere is a decline in portfolio positions or risk-\\nweighted assets due to losses from the global market\\nshock, except in the case noted below.\\nIf a firm subject to the global market shock can\\ndemonstrate that its loss-estimation methodology\\nstresses identical positions under both the global\\nmarket shock and the supervisory macroeconomic\\nscenario, that firm may assume that the combinedlosses from such positions do not exceed losses\\nresulting from the higher of either the losses stem-\\nming from the global market shock or those esti-\\nmated under the macroeconomic scenario. However,\\nthe full effect of the global market shock must be\\ntaken through net income in the first quarter of the\\nplanning horizon, which will include the as-of date\\nfor the global market shock.\\nIf a firm subject to the global market shock makes\\nany adjustment to account for identical positions,\\nthen that firm must demonstrate that the losses gen-\\nerated under the macroeconomic scenario are on\\nidentical positions to those subject to the global mar-\\nket shock, break out each of the adjustments as a\\nseparate component of pre-provision net revenue\\n(PPNR), and describe the rationale behind any such\\nadjustments.\\nCounterparty Default Scenario Component\\nFirms with substantial trading or processing and\\ncustodian operations are required to incorporate a\\ncounterparty default scenario component into their\\nsupervisory severely adverse stress scenario.27\\nFirms subject to the counterparty default scenario\\ncomponent in CCAR 2020 are required to estimate\\nand report the potential losses and related effects on\\ncapital associated with the instantaneous and unex-\\npected default of the counterparty that would gener-\\nate the largest losses across its derivatives and securi-\\nties financing transactions, including securities lend-\\ning and repurchase or reverse repurchase agreement\\nactivities. The largest counterparty of each firm is\\ndetermined by net stressed losses, which is estimated\\nby revaluing exposures and collateral using the global\\nmarket shock scenario.\\nThe as-of date for the counterparty default scenario\\ncomponent is October 18, 2019, the same date as the\\nglobal market shock.\\nSimilar to the global market shock, the counterparty\\ndefault scenario component is an add-on component\\nto the macroeconomic and financial market sce-\\nnarios specified in the Federal Reserve’s supervisory\\nseverely adverse scenario, and, therefore, losses asso-\\nciated with this component should be viewed as an\\naddition to the estimates of losses under the macro-\\neconomic scenarios.Dodd-Frank Act Stress Testing Rules and the Capital Plan Rule\\n(Washington: Board of Governors, February 2020), https://\\nwww.federalreserve.gov/newsevents/pressreleases/files/\\nbcreg20200206a1.pdf . \\n25See Agency Information Collection Activities: Announcement\\nof Board Approval Under Delegated Authority and Submission\\nto OMB, 82 Fed. Reg. 59608 (December 15, 2017), https://www\\n.govinfo.gov/app/details/FR-2017-12-15/2017-26960 . \\n26Firms should not report changes in value of the mortgage-\\nservicing rights (MSRs) assets or hedges as trading losses\\nresulting from the global market shock. Therefore, if derivative\\nor other MSRs hedges are placed in the trading book for\\nFR Y-9C purposes, these hedges should not be stressed with the\\nglobal market shock.27See 12 CFR 252.44(b).March 2020 7'"
      ]
     },
     "execution_count": 68,
     "metadata": {},
     "output_type": "execute_result"
    }
   ],
   "source": [
    "docs[10].page_content"
   ]
  },
  {
   "cell_type": "code",
   "execution_count": 62,
   "metadata": {},
   "outputs": [
    {
     "data": {
      "text/plain": [
       "26"
      ]
     },
     "execution_count": 62,
     "metadata": {},
     "output_type": "execute_result"
    }
   ],
   "source": [
    "len(docs)"
   ]
  },
  {
   "cell_type": "code",
   "execution_count": 69,
   "metadata": {},
   "outputs": [],
   "source": [
    "from langchain.text_splitter import MarkdownTextSplitter"
   ]
  },
  {
   "cell_type": "code",
   "execution_count": 70,
   "metadata": {},
   "outputs": [],
   "source": [
    "splitter = MarkdownTextSplitter(chunk_size = 40, chunk_overlap=0)\n"
   ]
  },
  {
   "cell_type": "markdown",
   "metadata": {},
   "source": [
    "## Header1\n",
    "### Header 2"
   ]
  },
  {
   "cell_type": "code",
   "execution_count": null,
   "metadata": {},
   "outputs": [],
   "source": []
  },
  {
   "cell_type": "code",
   "execution_count": null,
   "metadata": {},
   "outputs": [],
   "source": []
  }
 ],
 "metadata": {
  "kernelspec": {
   "display_name": "Python 3",
   "language": "python",
   "name": "python3"
  },
  "language_info": {
   "codemirror_mode": {
    "name": "ipython",
    "version": 3
   },
   "file_extension": ".py",
   "mimetype": "text/x-python",
   "name": "python",
   "nbconvert_exporter": "python",
   "pygments_lexer": "ipython3",
   "version": "3.10.0"
  }
 },
 "nbformat": 4,
 "nbformat_minor": 2
}
